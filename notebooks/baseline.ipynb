{
 "cells": [
  {
   "cell_type": "code",
   "execution_count": 1,
   "metadata": {},
   "outputs": [],
   "source": [
    "import os\n",
    "import shutil\n",
    "import pandas as pd\n",
    "import matplotlib.pyplot as plt\n",
    "from ultralytics import YOLO\n",
    "import glob\n",
    "import xml.etree.ElementTree as ET"
   ]
  },
  {
   "cell_type": "code",
   "execution_count": 3,
   "metadata": {},
   "outputs": [
    {
     "name": "stdout",
     "output_type": "stream",
     "text": [
      "Updated: data/train/2Q-1-_jpg.rf.13411f4537bc571689b86a4cdce2f4ae.xml\n",
      "Updated: data/train/2Q-1-_jpg.rf.20077eb39b1d18e36687fd8ca36048a0.xml\n",
      "Updated: data/train/2Q-1-_jpg.rf.62136b4446a89e77ff17dfbd36b098ee.xml\n",
      "Updated: data/train/2Q-1-_jpg.rf.73dfe7ec356cd543ff2bc23621606517.xml\n",
      "Updated: data/train/2Q-1-_jpg.rf.9322dadcad5acf3dd2a5c600fcc95f4d.xml\n",
      "Updated: data/train/2Q-1-_jpg.rf.d3742a6ceb097c3c4eadd9cbc0947915.xml\n",
      "Updated: data/train/2Q-10-_jpg.rf.3f7a3b7f3682659f5869e43c809f3dc1.xml\n",
      "Updated: data/train/2Q-10-_jpg.rf.911657af5cb48c3e94bc9183286ec0f1.xml\n",
      "Updated: data/train/2Q-10-_jpg.rf.9306f56dadd28d7d4c219d2632392138.xml\n",
      "Updated: data/train/2Q-10-_jpg.rf.a741bb5669a15aa55fcdaf93dbd24bca.xml\n",
      "Updated: data/train/2Q-10-_jpg.rf.e75b399f70b3fe4a2137398986677006.xml\n",
      "Updated: data/train/2Q-10-_jpg.rf.f07157821ad3b44c49b13fc1e2c93136.xml\n",
      "Updated: data/train/2Q-11-_jpg.rf.21c2c4bd6a08d2552c89010a9fb8bafd.xml\n",
      "Updated: data/train/2Q-11-_jpg.rf.862b01f7a31717f42b9c5e4f152563d4.xml\n",
      "Updated: data/train/2Q-11-_jpg.rf.9dab190c3d6c1e064813b697114797c2.xml\n",
      "Updated: data/train/2Q-13-_jpg.rf.1ba183b441c70ce653e6e20544b08d93.xml\n",
      "Updated: data/train/2Q-13-_jpg.rf.25e15dffdc953f61c947bebb6cc560c6.xml\n",
      "Updated: data/train/2Q-13-_jpg.rf.2c66946cd31436305b648cacfa8e3a56.xml\n",
      "Updated: data/train/2Q-15-_jpg.rf.6ec5d105666cc8efc964eed3239d67d0.xml\n",
      "Updated: data/train/2Q-15-_jpg.rf.8b39f536271e3949f6c21f9ac651e20d.xml\n",
      "Updated: data/train/2Q-15-_jpg.rf.f166cee035947b6a2b3297b1e2def0f6.xml\n",
      "Updated: data/train/2Q-16-_jpg.rf.0351315fea9fd22db2f13894cbd8737c.xml\n",
      "Updated: data/train/2Q-16-_jpg.rf.c56e5bc6fc95498052862848ec452a5d.xml\n",
      "Updated: data/train/2Q-16-_jpg.rf.f918af6de9fd80a60aad5ace3c3f5aa7.xml\n",
      "Updated: data/train/2Q-18-_jpg.rf.795d7228ad33e780ee740ab699afdac6.xml\n",
      "Updated: data/train/2Q-18-_jpg.rf.9c8eb42d2deda68aa8b28678f26f8ece.xml\n",
      "Updated: data/train/2Q-18-_jpg.rf.a1ef59f325878321a4bf0acc959ca213.xml\n",
      "Updated: data/train/2Q-2-_jpg.rf.196dd26551e8a995be8a0ab502b2ccf4.xml\n",
      "Updated: data/train/2Q-2-_jpg.rf.286e500cd58100fe79563dd0e63385f1.xml\n",
      "Updated: data/train/2Q-2-_jpg.rf.4ddc6e8b507bbb2d7c535da5b838ca58.xml\n",
      "Updated: data/train/2Q-2-_jpg.rf.61b89b70f4465ace76b94c3ee0134fec.xml\n",
      "Updated: data/train/2Q-2-_jpg.rf.961a4fe0b2dbdbc26d69ca86b8daf686.xml\n",
      "Updated: data/train/2Q-2-_jpg.rf.af7fa6866598f6d116536fc747a10443.xml\n",
      "Updated: data/train/2Q-3-_jpg.rf.022285bdb4fab25d616a1ccc500611fc.xml\n",
      "Updated: data/train/2Q-3-_jpg.rf.037b7e193d65df397b986cd36849eebf.xml\n",
      "Updated: data/train/2Q-3-_jpg.rf.2951b293a22d5fd882a5bbe7de1b1d23.xml\n",
      "Updated: data/train/2Q-3-_jpg.rf.34a9592afa4c865f1310ee9159c2b8e4.xml\n",
      "Updated: data/train/2Q-3-_jpg.rf.63679ce3e3339edd75bbed1229a69543.xml\n",
      "Updated: data/train/2Q-3-_jpg.rf.6796d6658144b508ddc8317806dbd00a.xml\n",
      "Updated: data/train/2Q-3-_jpg.rf.6fa152b37aeba181374e9cf3976cc0a5.xml\n",
      "Updated: data/train/2Q-3-_jpg.rf.937bea5970014a8fd16724c88c72df16.xml\n",
      "Updated: data/train/2Q-3-_jpg.rf.f672365e72f749950e67ee27c4c738b1.xml\n",
      "Updated: data/train/2Q-4-_jpg.rf.799a2d897a37905fa73278509f4ced9c.xml\n",
      "Updated: data/train/2Q-4-_jpg.rf.88167931cfb3b256dbb9b472c8a17f05.xml\n",
      "Updated: data/train/2Q-4-_jpg.rf.9504a2e117aae56b858f0b8f3002680c.xml\n",
      "Updated: data/train/2Q-4-_jpg.rf.a4624debda38a31c13b1ae898a1e3a22.xml\n",
      "Updated: data/train/2Q-4-_jpg.rf.a8b293607742219be6f1e4b726febe87.xml\n",
      "Updated: data/train/2Q-4-_jpg.rf.cc152489af039ac21bed61905cae1e5a.xml\n",
      "Updated: data/train/2Q-5-_jpg.rf.1a71cc7624a96101b0024170e5300267.xml\n",
      "Updated: data/train/2Q-5-_jpg.rf.5efaee75a6764b2a2eb2d4e152f5329c.xml\n",
      "Updated: data/train/2Q-5-_jpg.rf.81b52c31e6c297fd774b5477ff47b3c2.xml\n",
      "Updated: data/train/2Q-5-_jpg.rf.823509b6dcfdc032d9506334729f2463.xml\n",
      "Updated: data/train/2Q-5-_jpg.rf.90de936c84fcfedfd29e671de27de640.xml\n",
      "Updated: data/train/2Q-5-_jpg.rf.fe69914a1c985542d076384159a37987.xml\n",
      "Updated: data/train/2Q-6-_jpg.rf.4b5cdf3fa06773e83b61094ad37cea25.xml\n",
      "Updated: data/train/2Q-6-_jpg.rf.89337381c498e83c23c3acb3d626bcef.xml\n",
      "Updated: data/train/2Q-6-_jpg.rf.8db2b16f65759a235befe35af5bc2c43.xml\n",
      "Updated: data/train/2Q-6-_jpg.rf.a75d22d4bc5a235f05ece512ba70ea8c.xml\n",
      "Updated: data/train/2Q-6-_jpg.rf.a7e6a4413057924ba7271bcadca47b87.xml\n",
      "Updated: data/train/2Q-6-_jpg.rf.b62656c78b2627cce3fd7027646feb09.xml\n",
      "Updated: data/train/2Q-7-_jpg.rf.4b97e7f129608f601af5465dd563f07f.xml\n",
      "Updated: data/train/2Q-7-_jpg.rf.a4a204834eee824eab10739989cd9e21.xml\n",
      "Updated: data/train/2Q-7-_jpg.rf.b40187ee8a05e178c3080c7f4d87db75.xml\n",
      "Updated: data/train/2Q-7-_jpg.rf.b88713c05a40a986e1907707692683e7.xml\n",
      "Updated: data/train/2Q-7-_jpg.rf.bf1ee01e68f57820bc5ff8c905904367.xml\n",
      "Updated: data/train/2Q-7-_jpg.rf.c1b090b4c20b8edf73d4a78ccfaa2e58.xml\n",
      "Updated: data/train/2Q-7-_jpg.rf.df51089ee7803cb421edfe9e699cc940.xml\n",
      "Updated: data/train/2Q-7-_jpg.rf.e16d352ca6eba132c3b4ebeeb9ec2a75.xml\n",
      "Updated: data/train/2Q-7-_jpg.rf.fc4de312f597dbca74590cd44b8dd621.xml\n",
      "Updated: data/train/2Q-8-_jpg.rf.088bece530cc964097977f15d113e681.xml\n",
      "Updated: data/train/2Q-8-_jpg.rf.1ce425febbe510c1a071b33aeb80681d.xml\n",
      "Updated: data/train/2Q-8-_jpg.rf.d7eb509a944e2ef5ae34563ee242966c.xml\n",
      "Updated: data/train/2Q-9-_jpg.rf.0f95a00621df925b05f53a86e7f3ebf0.xml\n",
      "Updated: data/train/2Q-9-_jpg.rf.84b99f41d6cbd9bc31a4c6e4fe598f07.xml\n",
      "Updated: data/train/2Q-9-_jpg.rf.92c64b6c708c74f39b87bbab9dea36d7.xml\n",
      "Updated: data/train/2Q-9-_jpg.rf.a975ad38378e94b7204d3cc15491d5d3.xml\n",
      "Updated: data/train/2Q-9-_jpg.rf.ed9e6132740d4a9bb40318e0389a60ae.xml\n",
      "Updated: data/train/2Q-9-_jpg.rf.fc0d130a74c8d1b0f8f9ee8240d4a060.xml\n",
      "Updated: data/train/2Q-_jpg.rf.46e4db40c4898c75b348037fde9c2025.xml\n",
      "Updated: data/train/2Q-_jpg.rf.5647db622b64bd22cddb76defd846356.xml\n",
      "Updated: data/train/2Q-_jpg.rf.78069feedfe43041f4ef5252e9d724c2.xml\n",
      "Updated: data/train/2Q-_jpg.rf.8f1033e1ad1ee585bf983498c9f495cb.xml\n",
      "Updated: data/train/2Q-_jpg.rf.a1602efc760814a1feff98996bdb5d5c.xml\n",
      "Updated: data/train/2Q-_jpg.rf.c1abb04c67d8d5be5c5a5a1c5f2b2b7c.xml\n",
      "Updated: data/train/2Q-_jpg.rf.ebaef542e6debcf613794e584107a47b.xml\n",
      "Updated: data/train/2Q-_jpg.rf.efefe34eff555d3e656f1b12163522ec.xml\n",
      "Updated: data/train/2Q-_jpg.rf.fc309cd78bf2bd7cc8ae93fe9fc9abb8.xml\n",
      "Updated: data/train/8f559xLSYuBvEAAAAASUVORK5CYII-_png.rf.086f4d967a1681c785cfb1f85dd9d7bd.xml\n",
      "Updated: data/train/8f559xLSYuBvEAAAAASUVORK5CYII-_png.rf.16f5a495d5564a985790ff31569bfaf2.xml\n",
      "Updated: data/train/8f559xLSYuBvEAAAAASUVORK5CYII-_png.rf.45be85dfc92baef7293b3092cbacf5a5.xml\n",
      "Updated: data/train/9k-1-_jpg.rf.06d5074d9d93dd3a5540a11ff1307337.xml\n",
      "Updated: data/train/9k-1-_jpg.rf.18cd4ee2216f39174143db859a33d08c.xml\n",
      "Updated: data/train/9k-1-_jpg.rf.4e7f5eda8d538c2c951017d5ce3a14d7.xml\n",
      "Updated: data/train/9k-1-_jpg.rf.64b0dc6b7f9f960bd99fe67f8eb48747.xml\n",
      "Updated: data/train/9k-1-_jpg.rf.73ae3824ac2bd49f32b785776b627a17.xml\n",
      "Updated: data/train/9k-1-_jpg.rf.a379e5cfe89b4d4393c188b235f2c2a9.xml\n",
      "Updated: data/train/9k-10-_jpg.rf.473cc37a8c5742ca0908638aab38e61d.xml\n",
      "Updated: data/train/9k-10-_jpg.rf.67bb6dd84f3c0c6fa6f1cae20865534b.xml\n",
      "Updated: data/train/9k-10-_jpg.rf.f5fced6dcf5bcb42c2ed080f667d845e.xml\n",
      "Updated: data/train/9k-11-_jpg.rf.36848f02c2bdf1a609fb7c578d62349a.xml\n",
      "Updated: data/train/9k-11-_jpg.rf.3cb8707562e4313789a396934b51e1f9.xml\n",
      "Updated: data/train/9k-11-_jpg.rf.4c12b2614e39cefe920f6b6f7f00d9d4.xml\n",
      "Updated: data/train/9k-12-_jpg.rf.1698a5ddf54bb798023946f1fd04eb18.xml\n",
      "Updated: data/train/9k-12-_jpg.rf.9515ef4b2f8c030583f4d83f2e18d757.xml\n",
      "Updated: data/train/9k-12-_jpg.rf.c15d5e343c3e1855da9fd13240ad9e0a.xml\n",
      "Updated: data/train/9k-13-_jpg.rf.2fde4fb3c8f9060445847fdf316f0aee.xml\n",
      "Updated: data/train/9k-13-_jpg.rf.52511902ac561ff4f35e71be31194a6e.xml\n",
      "Updated: data/train/9k-13-_jpg.rf.8971d0095cd841c7dcfdeb768309499b.xml\n",
      "Updated: data/train/9k-13-_jpg.rf.db6788206738534254630d95296d7f78.xml\n",
      "Updated: data/train/9k-13-_jpg.rf.e2be36f9fab78ce0dfd5202c764aab02.xml\n",
      "Updated: data/train/9k-13-_jpg.rf.ef87da7884377394eccd6ca474e7c5a4.xml\n",
      "Updated: data/train/9k-14-_jpg.rf.27fed477f4845a77b6076f55ecf83549.xml\n",
      "Updated: data/train/9k-14-_jpg.rf.3933357da74440155421107a98844211.xml\n",
      "Updated: data/train/9k-14-_jpg.rf.6513ed0e5bf5d45537cc22d43b39010d.xml\n",
      "Updated: data/train/9k-14-_jpg.rf.9338d17d44d6f9978a0b05740bd22ec4.xml\n",
      "Updated: data/train/9k-14-_jpg.rf.99b3e50230163bb1c7f2dbff61e915cc.xml\n",
      "Updated: data/train/9k-14-_jpg.rf.e5ce4c8a3d25e03bc75b9ea2b85043c3.xml\n",
      "Updated: data/train/9k-16-_jpg.rf.4f6dc344823760bc99004532319f1377.xml\n",
      "Updated: data/train/9k-16-_jpg.rf.769267711a5f03c233aa2d9a1fba7ce4.xml\n",
      "Updated: data/train/9k-16-_jpg.rf.ffd3c57c2dfd5a20fc98a08c8029b75f.xml\n",
      "Updated: data/train/9k-2-_jpg.rf.0388661fce7e5ff1face614ec1782650.xml\n",
      "Updated: data/train/9k-2-_jpg.rf.5daa79654a449aa09f2733c7472837ed.xml\n",
      "Updated: data/train/9k-2-_jpg.rf.63320bfab708ebddca1169237cc275a5.xml\n",
      "Updated: data/train/9k-2-_jpg.rf.754c9fac88761f4378ee480d0977bfb0.xml\n",
      "Updated: data/train/9k-2-_jpg.rf.9400294923eff2f9dcb13cb2227ef9c5.xml\n",
      "Updated: data/train/9k-2-_jpg.rf.c5147c6feb1f3de25b4bfd51b22172f9.xml\n",
      "Updated: data/train/9k-3-_jpg.rf.372466a2876c5de8c52a2e6d98877edf.xml\n",
      "Updated: data/train/9k-3-_jpg.rf.7ee3ebfee1d478fd6b34025dcfa8a98e.xml\n",
      "Updated: data/train/9k-3-_jpg.rf.9f2513c3b8105c29e11a8a971d0d3fd1.xml\n",
      "Updated: data/train/9k-4-_jpg.rf.5666a3cf0f5f696397883501f50685a9.xml\n",
      "Updated: data/train/9k-4-_jpg.rf.5f5d5e7514c414b110855882e656a1f2.xml\n",
      "Updated: data/train/9k-4-_jpg.rf.9fd853c8f557c57ad861806a5bd7b75e.xml\n",
      "Updated: data/train/9k-4-_jpg.rf.c10ccdb82d71476a666bf7c251852c05.xml\n",
      "Updated: data/train/9k-4-_jpg.rf.e784ba6ed1b110b5ecdbdc479c5dfc47.xml\n",
      "Updated: data/train/9k-4-_jpg.rf.ec001f563f160e8385571f92ced78c16.xml\n",
      "Updated: data/train/9k-5-_jpg.rf.51b9c02987e9da59ec08c2c02d0addfe.xml\n",
      "Updated: data/train/9k-5-_jpg.rf.747d25f6d2e5c701783694a42be41eae.xml\n",
      "Updated: data/train/9k-5-_jpg.rf.b78c974d27b714ee9cf4632a74621322.xml\n",
      "Updated: data/train/9k-6-_jpg.rf.0a3eaec7f861918bb461467873f2d675.xml\n",
      "Updated: data/train/9k-6-_jpg.rf.2b5b571d25af52b0edd72625eeb391f9.xml\n",
      "Updated: data/train/9k-6-_jpg.rf.378508a391f317f13c398f37196427fa.xml\n",
      "Updated: data/train/9k-6-_jpg.rf.49b37ee47112707a1933f8cf5fbb229f.xml\n",
      "Updated: data/train/9k-6-_jpg.rf.6838b273b5b7cb26c96dd1b9360b4f20.xml\n",
      "Updated: data/train/9k-6-_jpg.rf.772c38d4602e56d087347946d140c849.xml\n",
      "Updated: data/train/9k-6-_jpg.rf.8698ae0b307c75461bc1e746a7420df6.xml\n",
      "Updated: data/train/9k-6-_jpg.rf.cab9595686fc7ecf80670f28609764e6.xml\n",
      "Updated: data/train/9k-6-_jpg.rf.f5df73d8c73f8bc1f41095c8921f772a.xml\n",
      "Updated: data/train/9k-7-_jpg.rf.220c575030b3371016cb169710918143.xml\n",
      "Updated: data/train/9k-7-_jpg.rf.3f1c385de5854a8fe20fbdf3fa080b0f.xml\n",
      "Updated: data/train/9k-7-_jpg.rf.43134ba00b801b90cc5fff779a14da5d.xml\n",
      "Updated: data/train/9k-7-_jpg.rf.459a740c695b8ccd0d8bea2f60720e56.xml\n",
      "Updated: data/train/9k-7-_jpg.rf.4baa80cd4d55174ac8b907a89d72930d.xml\n",
      "Updated: data/train/9k-7-_jpg.rf.8a2b0d14ddd44a7e213aa251ca859f82.xml\n",
      "Updated: data/train/9k-7-_jpg.rf.9d3cb3d8a2d3cbff110b2f5af4048980.xml\n",
      "Updated: data/train/9k-7-_jpg.rf.c944b41972988a6e1271c14283d6cd05.xml\n",
      "Updated: data/train/9k-7-_jpg.rf.f002823b0278dc1c7287a1e99a78ab33.xml\n",
      "Updated: data/train/9k-8-_jpg.rf.0c879dd241014676d40fee9df4454824.xml\n",
      "Updated: data/train/9k-8-_jpg.rf.171928c577aa0f644665b52f7d7863f9.xml\n",
      "Updated: data/train/9k-8-_jpg.rf.175e8322c21cea1f15fbe04a1cabb641.xml\n",
      "Updated: data/train/9k-8-_jpg.rf.40ac6e66b90acefe714c9cd55c2e69fe.xml\n",
      "Updated: data/train/9k-8-_jpg.rf.5ab7f28e45aa76614caefc2218b5a18d.xml\n",
      "Updated: data/train/9k-8-_jpg.rf.83a2e4778a540b2299ed9075f386517a.xml\n",
      "Updated: data/train/9k-9-_jpg.rf.284d5b0a148fc7802fcf90e4fa5570f9.xml\n",
      "Updated: data/train/9k-9-_jpg.rf.57db059504dfb8b57dcb36ac432778fb.xml\n",
      "Updated: data/train/9k-9-_jpg.rf.65f415b0883bad710928e4bf98662c30.xml\n",
      "Updated: data/train/9k-9-_jpg.rf.8971088e642d9b6db02532fd0185baee.xml\n",
      "Updated: data/train/9k-9-_jpg.rf.90bd84db587747f0dd8acb1a0c703281.xml\n",
      "Updated: data/train/9k-9-_jpg.rf.bc7f3977a6022dedf94605963538212b.xml\n",
      "Updated: data/train/9k-_jpg.rf.3843d2c7803158068a8a3c71c5d522a1.xml\n",
      "Updated: data/train/9k-_jpg.rf.3cb5057b4c5a8aa59b28f8efc8b03057.xml\n",
      "Updated: data/train/9k-_jpg.rf.cf9fdd82e1fd87323a99c447ad3fd3b0.xml\n",
      "Updated: data/train/Z-1-_jpg.rf.077631fb20cd1f2dc11bc6d77da5e325.xml\n",
      "Updated: data/train/Z-1-_jpg.rf.0d3bdf81aabfbe5c20e209aa1b95ab28.xml\n",
      "Updated: data/train/Z-1-_jpg.rf.638baa5a93a413156cb456869f4413d9.xml\n",
      "Updated: data/train/Z-1-_jpg.rf.71ca18ba073be564e16b945d2372bc57.xml\n",
      "Updated: data/train/Z-1-_jpg.rf.9e0d2992b305a841314f17b350ed998c.xml\n",
      "Updated: data/train/Z-1-_jpg.rf.9e43c04e98f0b49fd8b992098675b379.xml\n",
      "Updated: data/train/Z-1-_jpg.rf.a0d33a54565ebdc32aac4e8d3d1688af.xml\n",
      "Updated: data/train/Z-1-_jpg.rf.b27470ac3811778fd2ace5e2ad54609d.xml\n",
      "Updated: data/train/Z-1-_jpg.rf.d6a19ed54d637673f4277ba7705b495b.xml\n",
      "Updated: data/train/Z-2-_jpg.rf.10ee3d5e31fda8217cb1fd0b3e15e600.xml\n",
      "Updated: data/train/Z-2-_jpg.rf.24530e198f3d72b1c5fcea93818a8e88.xml\n",
      "Updated: data/train/Z-2-_jpg.rf.406917ca6cdc527907b64098b9212486.xml\n",
      "Updated: data/train/Z-2-_jpg.rf.409f040ce75d32b28277a8ae9296129a.xml\n",
      "Updated: data/train/Z-2-_jpg.rf.6782d9cacd1c3a98834c5210fe4f9c0a.xml\n",
      "Updated: data/train/Z-2-_jpg.rf.6bcca3d368a4b74601424948054afea1.xml\n",
      "Updated: data/train/Z-2-_jpg.rf.7310016ae9ac7b5fc8a1fd8be26e9847.xml\n",
      "Updated: data/train/Z-2-_jpg.rf.7b29b64b0444c4def19340864b51f1f4.xml\n",
      "Updated: data/train/Z-2-_jpg.rf.db2026162905874e91bfa7f73bdffab7.xml\n",
      "Updated: data/train/Z-3-_jpg.rf.1af3d56ee9abb3532b2c4543b69ae027.xml\n",
      "Updated: data/train/Z-3-_jpg.rf.9ce6d87920a1e486bd4a5aeb155bb289.xml\n",
      "Updated: data/train/Z-3-_jpg.rf.a309c68c5cf1bddf7ed2d5bd03dd5c3d.xml\n",
      "Updated: data/train/Z-4-_jpg.rf.02220d1d344ed7daa115035169aeb89c.xml\n",
      "Updated: data/train/Z-4-_jpg.rf.23f7d9286668f732098ce61e00cb9282.xml\n",
      "Updated: data/train/Z-4-_jpg.rf.36b3d3836657093d853fcfb3806440f7.xml\n",
      "Updated: data/train/Z-5-_jpg.rf.693dd016f850db8828258efcc8147c91.xml\n",
      "Updated: data/train/Z-5-_jpg.rf.a35f6ad891b7aba24eb5c125c901c76e.xml\n",
      "Updated: data/train/Z-5-_jpg.rf.b2ca188cc2493aafc1961b8761e1af1c.xml\n",
      "Updated: data/train/Z-6-_jpg.rf.37db635024672a7d50cf975b8a20d0c5.xml\n",
      "Updated: data/train/Z-6-_jpg.rf.7d7be73cd6995d1b48a055abb88b3f56.xml\n",
      "Updated: data/train/Z-6-_jpg.rf.e0e0f33b4db4ee8b12b30fee32baffc4.xml\n",
      "Updated: data/train/Z-7-_jpg.rf.624bdae199e5cd4113973aebb4124f98.xml\n",
      "Updated: data/train/Z-7-_jpg.rf.6c0dd18fb88e27a8ef2a338d4c7363ea.xml\n",
      "Updated: data/train/Z-7-_jpg.rf.90a5076837a1d495213ba33b1f5ce775.xml\n",
      "Updated: data/train/Z-9-_jpg.rf.84c4fc3459b6ca15b892f6862864bf36.xml\n",
      "Updated: data/train/Z-9-_jpg.rf.e7292852bd0a1617a9c80aaeece9d096.xml\n",
      "Updated: data/train/Z-9-_jpg.rf.fbe5a310cdd0cdd99c648dedf44b5eb5.xml\n",
      "Updated: data/train/Z_jpg.rf.4c7d729a2d1563ee91519e4508df3ece.xml\n",
      "Updated: data/train/Z_jpg.rf.619ff08fefde5ac98a1f0984f4f0b1d1.xml\n",
      "Updated: data/train/Z_jpg.rf.692ede040f09c87426df501fd8450542.xml\n",
      "Updated: data/train/Z_jpg.rf.766375dcb1a8d7c20d8209a839d358c2.xml\n",
      "Updated: data/train/Z_jpg.rf.791429d7f1de099a0f16bd57c0b80247.xml\n",
      "Updated: data/train/Z_jpg.rf.792edc44337345ac260ea7c779ed7193.xml\n",
      "Updated: data/train/images-1-_jpg.rf.0ab5e75aa8738f0086b1461e7bb6ae48.xml\n",
      "Updated: data/train/images-1-_jpg.rf.1f98f96f5a6e7128a395507172701eb5.xml\n",
      "Updated: data/train/images-1-_jpg.rf.88837c168a8a46db3aad2ac2ba74c119.xml\n",
      "Updated: data/train/images-2-_jpg.rf.3108825d9df8f7b4990689969c04d4dd.xml\n",
      "Updated: data/train/images-2-_jpg.rf.57bf50dc129f6c2cf18cc9470dbaac61.xml\n",
      "Updated: data/train/images-2-_jpg.rf.99cc8374250a6b2b823b7089093b583d.xml\n",
      "Updated: data/train/images-2-_jpg.rf.b746a408f82ccc5ba0b1adf4d1542622.xml\n",
      "Updated: data/train/images-2-_jpg.rf.c071fbcdd2dee3cc0e53c8f2c6037893.xml\n",
      "Updated: data/train/images-2-_jpg.rf.d179550649f96b46dbe1bcb702e4d81e.xml\n",
      "Updated: data/train/images-3-_jpg.rf.35afa9e116cd47d472ee7b42cd1c93fd.xml\n",
      "Updated: data/train/images-3-_jpg.rf.aa663d477280e5afc68498d5d14cb7cb.xml\n",
      "Updated: data/train/images-3-_jpg.rf.eeb553c20fe9ab276c18a8fb72a003e7.xml\n",
      "Updated: data/valid/2Q-1-_jpg.rf.5b1e4f465ee072edc703c650ef9b96f1.xml\n",
      "Updated: data/valid/2Q-2-_jpg.rf.2037d6404329876e1e587a511673b10a.xml\n",
      "Updated: data/valid/2Q-8-_jpg.rf.0f611385e94af75f379abbb2efd9f7e4.xml\n",
      "Updated: data/valid/9k-1-_jpg.rf.49730f583ba0db707267c6d835e3d677.xml\n",
      "Updated: data/valid/9k-10-_jpg.rf.1ac1df7187e852473c5fe0337c47cdd6.xml\n",
      "Updated: data/valid/9k-10-_jpg.rf.fdfd7de327d38b5adaca11762c93dbba.xml\n",
      "Updated: data/valid/9k-12-_jpg.rf.abe0cf640c4a044f481fd43560f76a48.xml\n",
      "Updated: data/valid/9k-13-_jpg.rf.b296b1d3d4fc749b14000801721961fe.xml\n",
      "Updated: data/valid/9k-2-_jpg.rf.59ed922ede000cf895b12171fab0912c.xml\n",
      "Updated: data/valid/9k-3-_jpg.rf.849f5d0ab54520c34e10c9618a58fbd2.xml\n",
      "Updated: data/valid/9k-5-_jpg.rf.9af9375b4c90827fe38f305e75df1c5d.xml\n",
      "Updated: data/valid/9k-9-_jpg.rf.60be9c621f3522316b38d5ba02556c9d.xml\n",
      "Updated: data/valid/9k-_jpg.rf.6c12fc38d41b49bad3c8bfaaaf66f355.xml\n",
      "Updated: data/valid/Z-4-_jpg.rf.779c055f96784c96ee15a01029fa9b09.xml\n",
      "Updated: data/valid/Z-5-_jpg.rf.6540801e306232c231bd4b3c1562174e.xml\n",
      "Updated: data/valid/Z-7-_jpg.rf.8d186bd9a490c52b3daa51db178aa120.xml\n",
      "Updated: data/valid/Z-8-_jpg.rf.b30abd9c663075c392d9723604591c56.xml\n",
      "Updated: data/valid/Z_jpg.rf.afc0aff2660be1a950ad58a5021996d3.xml\n",
      "Updated: data/valid/images-1-_jpg.rf.27babb85d236bc41a43d2f43e5152923.xml\n",
      "Updated: data/valid/images-2-_jpg.rf.3418b226a4257acaad23bf14acd5ac3a.xml\n",
      "Updated: data/valid/images_jpg.rf.06c22d2c8690c38e9a23dc8b058ae7f1.xml\n",
      "Updated: data/valid/images_jpg.rf.ab6fb5734f486b47803dc3d25b3144d5.xml\n",
      "Updated: data/test/2Q-14-_jpg.rf.79fbab175452461551e523579b52f17c.xml\n",
      "Updated: data/test/2Q-4-_jpg.rf.a7ad41b2e1ed2cbde225d192ad8ce899.xml\n",
      "Updated: data/test/2Q-6-_jpg.rf.9c1b89a8fadb236ca05b1dd6edf44036.xml\n",
      "Updated: data/test/9k-12-_jpg.rf.ca37931aab36f8389664fb157555c4fc.xml\n",
      "Updated: data/test/9k-15-_jpg.rf.6637001e299df0b9757f4f077f4940d8.xml\n",
      "Updated: data/test/9k-3-_jpg.rf.70ea1d0e1de55373fc127d8d13d562b1.xml\n",
      "Updated: data/test/9k-4-_jpg.rf.40e68e60018912b7fa556b4826aad830.xml\n",
      "Updated: data/test/9k-5-_jpg.rf.2ce7237c00b6442df6ab8a54cc8b0113.xml\n",
      "Updated: data/test/9k-_jpg.rf.8d815d988a918bbe150082eae7f8fcf3.xml\n",
      "Updated: data/test/Z-6-_jpg.rf.4eb6fc002bf6f1695d8eaec3ded8674c.xml\n",
      "Updated: data/test/images_jpg.rf.29779a7115a19f08d543964311cc63b7.xml\n"
     ]
    }
   ],
   "source": [
    "dog_aliases = {'Abrador', 'Chihuahua', 'Shiba-Inu'}\n",
    "\n",
    "base_dir = '../data' \n",
    "\n",
    "for split in ['train', 'valid', 'test']:\n",
    "    split_dir = os.path.join(base_dir, split)\n",
    "    if not os.path.isdir(split_dir):\n",
    "        continue\n",
    "\n",
    "    xml_paths = glob.glob(os.path.join(split_dir, '*.xml'))\n",
    "    for xml_path in xml_paths:\n",
    "        tree = ET.parse(xml_path)\n",
    "        root = tree.getroot()\n",
    "        modified = False\n",
    "\n",
    "        for obj in root.findall('object'):\n",
    "            name_elem = obj.find('name')\n",
    "            if name_elem is not None and name_elem.text in dog_aliases:\n",
    "                name_elem.text = 'dog'\n",
    "                modified = True\n",
    "\n",
    "        if modified:\n",
    "            tree.write(xml_path, encoding='utf-8', xml_declaration=True)\n",
    "            print(f\"Updated: {xml_path}\")"
   ]
  },
  {
   "cell_type": "code",
   "execution_count": 4,
   "metadata": {},
   "outputs": [
    {
     "name": "stdout",
     "output_type": "stream",
     "text": [
      "PRO TIP 💡 Replace 'model=yolov5n.pt' with new 'model=yolov5nu.pt'.\n",
      "YOLOv5 'u' models are trained with https://github.com/ultralytics/ultralytics and feature improved performance vs standard YOLOv5 models trained with https://github.com/ultralytics/yolov5.\n",
      "\n",
      "Downloading https://github.com/ultralytics/assets/releases/download/v8.3.0/yolov5nu.pt to 'yolov5nu.pt'...\n"
     ]
    },
    {
     "name": "stderr",
     "output_type": "stream",
     "text": [
      "100%|██████████| 5.31M/5.31M [00:00<00:00, 231MB/s]\n"
     ]
    },
    {
     "name": "stdout",
     "output_type": "stream",
     "text": [
      "YOLOv5n summary: 153 layers, 2,654,816 parameters, 0 gradients, 7.8 GFLOPs\n"
     ]
    },
    {
     "data": {
      "text/plain": [
       "(153, 2654816, 0, 7.840102399999999)"
      ]
     },
     "execution_count": 4,
     "metadata": {},
     "output_type": "execute_result"
    }
   ],
   "source": [
    "model = YOLO('yolov5n.pt')\n",
    "\n",
    "model.info()"
   ]
  },
  {
   "cell_type": "code",
   "execution_count": null,
   "metadata": {},
   "outputs": [
    {
     "name": "stdout",
     "output_type": "stream",
     "text": [
      "Ultralytics 8.3.134 🚀 Python-3.10.10 torch-2.7.0+cu128 CPU (Intel Xeon Platinum 8259CL 2.50GHz)\n",
      "\u001b[34m\u001b[1mengine/trainer: \u001b[0magnostic_nms=False, amp=True, augment=False, auto_augment=randaugment, batch=16, bgr=0.0, box=7.5, cache=False, cfg=None, classes=None, close_mosaic=10, cls=0.5, conf=None, copy_paste=0.0, copy_paste_mode=flip, cos_lr=False, cutmix=0.0, data=data_small/dog.yaml, degrees=0.0, deterministic=True, device=cpu, dfl=1.5, dnn=False, dropout=0.0, dynamic=False, embed=None, epochs=20, erasing=0.4, exist_ok=True, fliplr=0.5, flipud=0.0, format=torchscript, fraction=1.0, freeze=None, half=False, hsv_h=0.015, hsv_s=0.7, hsv_v=0.4, imgsz=640, int8=False, iou=0.7, keras=False, kobj=1.0, line_width=None, lr0=0.01, lrf=0.01, mask_ratio=4, max_det=300, mixup=0.0, mode=train, model=yolov5n.pt, momentum=0.937, mosaic=1.0, multi_scale=False, name=baseline, nbs=64, nms=False, opset=None, optimize=False, optimizer=auto, overlap_mask=True, patience=100, perspective=0.0, plots=True, pose=12.0, pretrained=True, profile=False, project=runs, rect=False, resume=False, retina_masks=False, save=True, save_conf=False, save_crop=False, save_dir=runs/baseline, save_frames=False, save_json=False, save_period=-1, save_txt=False, scale=0.5, seed=0, shear=0.0, show=False, show_boxes=True, show_conf=True, show_labels=True, simplify=True, single_cls=False, source=None, split=val, stream_buffer=False, task=detect, time=None, tracker=botsort.yaml, translate=0.1, val=True, verbose=True, vid_stride=1, visualize=False, warmup_bias_lr=0.1, warmup_epochs=3.0, warmup_momentum=0.8, weight_decay=0.0005, workers=8, workspace=None\n",
      "Overriding model.yaml nc=80 with nc=5\n",
      "\n",
      "                   from  n    params  module                                       arguments                     \n",
      "  0                  -1  1      1760  ultralytics.nn.modules.conv.Conv             [3, 16, 6, 2, 2]              \n",
      "  1                  -1  1      4672  ultralytics.nn.modules.conv.Conv             [16, 32, 3, 2]                \n",
      "  2                  -1  1      4800  ultralytics.nn.modules.block.C3              [32, 32, 1]                   \n",
      "  3                  -1  1     18560  ultralytics.nn.modules.conv.Conv             [32, 64, 3, 2]                \n",
      "  4                  -1  2     29184  ultralytics.nn.modules.block.C3              [64, 64, 2]                   \n",
      "  5                  -1  1     73984  ultralytics.nn.modules.conv.Conv             [64, 128, 3, 2]               \n",
      "  6                  -1  3    156928  ultralytics.nn.modules.block.C3              [128, 128, 3]                 \n",
      "  7                  -1  1    295424  ultralytics.nn.modules.conv.Conv             [128, 256, 3, 2]              \n"
     ]
    },
    {
     "name": "stdout",
     "output_type": "stream",
     "text": [
      "  8                  -1  1    296448  ultralytics.nn.modules.block.C3              [256, 256, 1]                 \n",
      "  9                  -1  1    164608  ultralytics.nn.modules.block.SPPF            [256, 256, 5]                 \n",
      " 10                  -1  1     33024  ultralytics.nn.modules.conv.Conv             [256, 128, 1, 1]              \n",
      " 11                  -1  1         0  torch.nn.modules.upsampling.Upsample         [None, 2, 'nearest']          \n",
      " 12             [-1, 6]  1         0  ultralytics.nn.modules.conv.Concat           [1]                           \n",
      " 13                  -1  1     90880  ultralytics.nn.modules.block.C3              [256, 128, 1, False]          \n",
      " 14                  -1  1      8320  ultralytics.nn.modules.conv.Conv             [128, 64, 1, 1]               \n",
      " 15                  -1  1         0  torch.nn.modules.upsampling.Upsample         [None, 2, 'nearest']          \n",
      " 16             [-1, 4]  1         0  ultralytics.nn.modules.conv.Concat           [1]                           \n",
      " 17                  -1  1     22912  ultralytics.nn.modules.block.C3              [128, 64, 1, False]           \n",
      " 18                  -1  1     36992  ultralytics.nn.modules.conv.Conv             [64, 64, 3, 2]                \n",
      " 19            [-1, 14]  1         0  ultralytics.nn.modules.conv.Concat           [1]                           \n",
      " 20                  -1  1     74496  ultralytics.nn.modules.block.C3              [128, 128, 1, False]          \n",
      " 21                  -1  1    147712  ultralytics.nn.modules.conv.Conv             [128, 128, 3, 2]              \n",
      " 22            [-1, 10]  1         0  ultralytics.nn.modules.conv.Concat           [1]                           \n",
      " 23                  -1  1    296448  ultralytics.nn.modules.block.C3              [256, 256, 1, False]          \n",
      " 24        [17, 20, 23]  1    752287  ultralytics.nn.modules.head.Detect           [5, [64, 128, 256]]           \n",
      "YOLOv5n summary: 153 layers, 2,509,439 parameters, 2,509,423 gradients, 7.2 GFLOPs\n",
      "\n",
      "Transferred 391/427 items from pretrained weights\n",
      "Freezing layer 'model.24.dfl.conv.weight'\n",
      "\u001b[34m\u001b[1mtrain: \u001b[0mFast image access ✅ (ping: 0.0±0.0 ms, read: 116.0±124.7 MB/s, size: 169.4 KB)\n"
     ]
    },
    {
     "name": "stderr",
     "output_type": "stream",
     "text": [
      "\u001b[34m\u001b[1mtrain: \u001b[0mScanning /teamspace/studios/this_studio/dlbs-mc-oliver-fabian/data_small/train... 100 images, 0 backgrounds, 0 corrupt: 100%|██████████| 100/100 [00:00<00:00, 841.35it/s]"
     ]
    },
    {
     "name": "stdout",
     "output_type": "stream",
     "text": [
      "\u001b[34m\u001b[1mtrain: \u001b[0mNew cache created: /teamspace/studios/this_studio/dlbs-mc-oliver-fabian/data_small/train.cache\n",
      "\u001b[34m\u001b[1mval: \u001b[0mFast image access ✅ (ping: 0.0±0.0 ms, read: 413.6±71.9 MB/s, size: 376.6 KB)\n"
     ]
    },
    {
     "name": "stderr",
     "output_type": "stream",
     "text": [
      "\n",
      "/home/zeus/miniconda3/envs/cloudspace/lib/python3.10/site-packages/torch/utils/data/dataloader.py:665: UserWarning: 'pin_memory' argument is set as true but no accelerator is found, then device pinned memory won't be used.\n",
      "  warnings.warn(warn_msg)\n",
      "\u001b[34m\u001b[1mval: \u001b[0mScanning /teamspace/studios/this_studio/dlbs-mc-oliver-fabian/data_small/valid... 50 images, 1 backgrounds, 0 corrupt: 100%|██████████| 50/50 [00:00<00:00, 945.74it/s]\n"
     ]
    },
    {
     "name": "stdout",
     "output_type": "stream",
     "text": [
      "\u001b[34m\u001b[1mval: \u001b[0mNew cache created: /teamspace/studios/this_studio/dlbs-mc-oliver-fabian/data_small/valid.cache\n"
     ]
    },
    {
     "name": "stderr",
     "output_type": "stream",
     "text": [
      "/home/zeus/miniconda3/envs/cloudspace/lib/python3.10/site-packages/torch/utils/data/dataloader.py:665: UserWarning: 'pin_memory' argument is set as true but no accelerator is found, then device pinned memory won't be used.\n",
      "  warnings.warn(warn_msg)\n"
     ]
    },
    {
     "name": "stdout",
     "output_type": "stream",
     "text": [
      "Plotting labels to runs/baseline/labels.jpg... \n",
      "\u001b[34m\u001b[1moptimizer:\u001b[0m 'optimizer=auto' found, ignoring 'lr0=0.01' and 'momentum=0.937' and determining best 'optimizer', 'lr0' and 'momentum' automatically... \n",
      "\u001b[34m\u001b[1moptimizer:\u001b[0m AdamW(lr=0.001111, momentum=0.9) with parameter groups 69 weight(decay=0.0), 76 weight(decay=0.0005), 75 bias(decay=0.0)\n",
      "Image sizes 640 train, 640 val\n",
      "Using 0 dataloader workers\n",
      "Logging results to \u001b[1mruns/baseline\u001b[0m\n",
      "Starting training for 20 epochs...\n",
      "\n",
      "      Epoch    GPU_mem   box_loss   cls_loss   dfl_loss  Instances       Size\n"
     ]
    },
    {
     "name": "stderr",
     "output_type": "stream",
     "text": [
      "       1/20         0G      1.351      3.888      1.612          9        640: 100%|██████████| 7/7 [00:35<00:00,  5.09s/it]\n",
      "                 Class     Images  Instances      Box(P          R      mAP50  mAP50-95): 100%|██████████| 2/2 [00:06<00:00,  3.41s/it]"
     ]
    },
    {
     "name": "stdout",
     "output_type": "stream",
     "text": [
      "                   all         50         54     0.0115      0.887      0.101     0.0586\n"
     ]
    },
    {
     "name": "stderr",
     "output_type": "stream",
     "text": [
      "\n"
     ]
    },
    {
     "name": "stdout",
     "output_type": "stream",
     "text": [
      "\n",
      "      Epoch    GPU_mem   box_loss   cls_loss   dfl_loss  Instances       Size\n"
     ]
    },
    {
     "name": "stderr",
     "output_type": "stream",
     "text": [
      "       2/20         0G      1.081      3.407      1.452         10        640: 100%|██████████| 7/7 [00:32<00:00,  4.62s/it]\n",
      "                 Class     Images  Instances      Box(P          R      mAP50  mAP50-95): 100%|██████████| 2/2 [00:06<00:00,  3.19s/it]"
     ]
    },
    {
     "name": "stdout",
     "output_type": "stream",
     "text": [
      "                   all         50         54     0.0273      0.934       0.29      0.198\n"
     ]
    },
    {
     "name": "stderr",
     "output_type": "stream",
     "text": [
      "\n"
     ]
    },
    {
     "name": "stdout",
     "output_type": "stream",
     "text": [
      "\n",
      "      Epoch    GPU_mem   box_loss   cls_loss   dfl_loss  Instances       Size\n"
     ]
    },
    {
     "name": "stderr",
     "output_type": "stream",
     "text": [
      "       3/20         0G      1.123      2.657      1.466         14        640: 100%|██████████| 7/7 [00:31<00:00,  4.51s/it]\n",
      "                 Class     Images  Instances      Box(P          R      mAP50  mAP50-95): 100%|██████████| 2/2 [00:06<00:00,  3.41s/it]"
     ]
    },
    {
     "name": "stdout",
     "output_type": "stream",
     "text": [
      "                   all         50         54      0.022      0.943      0.357       0.23\n"
     ]
    },
    {
     "name": "stderr",
     "output_type": "stream",
     "text": [
      "\n"
     ]
    },
    {
     "name": "stdout",
     "output_type": "stream",
     "text": [
      "\n",
      "      Epoch    GPU_mem   box_loss   cls_loss   dfl_loss  Instances       Size\n"
     ]
    },
    {
     "name": "stderr",
     "output_type": "stream",
     "text": [
      "       4/20         0G      1.164      2.401      1.453          8        640: 100%|██████████| 7/7 [00:33<00:00,  4.85s/it]\n",
      "                 Class     Images  Instances      Box(P          R      mAP50  mAP50-95): 100%|██████████| 2/2 [00:07<00:00,  3.71s/it]"
     ]
    },
    {
     "name": "stdout",
     "output_type": "stream",
     "text": [
      "                   all         50         54      0.932       0.12      0.338      0.228\n"
     ]
    },
    {
     "name": "stderr",
     "output_type": "stream",
     "text": [
      "\n"
     ]
    },
    {
     "name": "stdout",
     "output_type": "stream",
     "text": [
      "\n",
      "      Epoch    GPU_mem   box_loss   cls_loss   dfl_loss  Instances       Size\n"
     ]
    },
    {
     "name": "stderr",
     "output_type": "stream",
     "text": [
      "       5/20         0G       1.19      2.225      1.521          6        640: 100%|██████████| 7/7 [00:34<00:00,  4.98s/it]\n",
      "                 Class     Images  Instances      Box(P          R      mAP50  mAP50-95): 100%|██████████| 2/2 [00:07<00:00,  3.69s/it]"
     ]
    },
    {
     "name": "stdout",
     "output_type": "stream",
     "text": [
      "                   all         50         54      0.916      0.179      0.359      0.209\n"
     ]
    },
    {
     "name": "stderr",
     "output_type": "stream",
     "text": [
      "\n"
     ]
    },
    {
     "name": "stdout",
     "output_type": "stream",
     "text": [
      "\n",
      "      Epoch    GPU_mem   box_loss   cls_loss   dfl_loss  Instances       Size\n"
     ]
    },
    {
     "name": "stderr",
     "output_type": "stream",
     "text": [
      "       6/20         0G      1.056      2.149      1.435          5        640: 100%|██████████| 7/7 [00:35<00:00,  5.01s/it]\n",
      "                 Class     Images  Instances      Box(P          R      mAP50  mAP50-95): 100%|██████████| 2/2 [00:06<00:00,  3.47s/it]"
     ]
    },
    {
     "name": "stdout",
     "output_type": "stream",
     "text": [
      "                   all         50         54       0.86       0.33       0.36      0.213\n"
     ]
    },
    {
     "name": "stderr",
     "output_type": "stream",
     "text": [
      "\n"
     ]
    },
    {
     "name": "stdout",
     "output_type": "stream",
     "text": [
      "\n",
      "      Epoch    GPU_mem   box_loss   cls_loss   dfl_loss  Instances       Size\n"
     ]
    },
    {
     "name": "stderr",
     "output_type": "stream",
     "text": [
      "       7/20         0G      1.066      2.042      1.397         13        640: 100%|██████████| 7/7 [00:34<00:00,  4.93s/it]\n",
      "                 Class     Images  Instances      Box(P          R      mAP50  mAP50-95): 100%|██████████| 2/2 [00:06<00:00,  3.44s/it]"
     ]
    },
    {
     "name": "stdout",
     "output_type": "stream",
     "text": [
      "                   all         50         54      0.843      0.352      0.379      0.245\n"
     ]
    },
    {
     "name": "stderr",
     "output_type": "stream",
     "text": [
      "\n"
     ]
    },
    {
     "name": "stdout",
     "output_type": "stream",
     "text": [
      "\n",
      "      Epoch    GPU_mem   box_loss   cls_loss   dfl_loss  Instances       Size\n"
     ]
    },
    {
     "name": "stderr",
     "output_type": "stream",
     "text": [
      "       8/20         0G      1.023      1.837      1.336          8        640: 100%|██████████| 7/7 [00:33<00:00,  4.83s/it]\n",
      "                 Class     Images  Instances      Box(P          R      mAP50  mAP50-95): 100%|██████████| 2/2 [00:06<00:00,  3.46s/it]"
     ]
    },
    {
     "name": "stdout",
     "output_type": "stream",
     "text": [
      "                   all         50         54      0.831      0.349      0.345      0.228\n"
     ]
    },
    {
     "name": "stderr",
     "output_type": "stream",
     "text": [
      "\n"
     ]
    },
    {
     "name": "stdout",
     "output_type": "stream",
     "text": [
      "\n",
      "      Epoch    GPU_mem   box_loss   cls_loss   dfl_loss  Instances       Size\n"
     ]
    },
    {
     "name": "stderr",
     "output_type": "stream",
     "text": [
      "       9/20         0G     0.9745      1.799      1.305         17        640: 100%|██████████| 7/7 [00:33<00:00,  4.85s/it]\n",
      "                 Class     Images  Instances      Box(P          R      mAP50  mAP50-95): 100%|██████████| 2/2 [00:06<00:00,  3.32s/it]"
     ]
    },
    {
     "name": "stdout",
     "output_type": "stream",
     "text": [
      "                   all         50         54      0.846      0.381      0.399      0.272\n"
     ]
    },
    {
     "name": "stderr",
     "output_type": "stream",
     "text": [
      "\n"
     ]
    },
    {
     "name": "stdout",
     "output_type": "stream",
     "text": [
      "\n",
      "      Epoch    GPU_mem   box_loss   cls_loss   dfl_loss  Instances       Size\n"
     ]
    },
    {
     "name": "stderr",
     "output_type": "stream",
     "text": [
      "      10/20         0G     0.9897      1.866       1.36         14        640: 100%|██████████| 7/7 [00:35<00:00,  5.01s/it]\n",
      "                 Class     Images  Instances      Box(P          R      mAP50  mAP50-95): 100%|██████████| 2/2 [00:06<00:00,  3.37s/it]"
     ]
    },
    {
     "name": "stdout",
     "output_type": "stream",
     "text": [
      "                   all         50         54      0.888      0.377      0.405      0.263\n"
     ]
    },
    {
     "name": "stderr",
     "output_type": "stream",
     "text": [
      "\n"
     ]
    },
    {
     "name": "stdout",
     "output_type": "stream",
     "text": [
      "Closing dataloader mosaic\n",
      "\n",
      "      Epoch    GPU_mem   box_loss   cls_loss   dfl_loss  Instances       Size\n"
     ]
    },
    {
     "name": "stderr",
     "output_type": "stream",
     "text": [
      "/home/zeus/miniconda3/envs/cloudspace/lib/python3.10/site-packages/torch/utils/data/dataloader.py:665: UserWarning: 'pin_memory' argument is set as true but no accelerator is found, then device pinned memory won't be used.\n",
      "  warnings.warn(warn_msg)\n",
      "      11/20         0G     0.9966      2.291      1.345          4        640: 100%|██████████| 7/7 [00:35<00:00,  5.06s/it]\n",
      "                 Class     Images  Instances      Box(P          R      mAP50  mAP50-95): 100%|██████████| 2/2 [00:07<00:00,  3.52s/it]"
     ]
    },
    {
     "name": "stdout",
     "output_type": "stream",
     "text": [
      "                   all         50         54      0.845      0.293      0.365      0.192\n"
     ]
    },
    {
     "name": "stderr",
     "output_type": "stream",
     "text": [
      "\n"
     ]
    },
    {
     "name": "stdout",
     "output_type": "stream",
     "text": [
      "\n",
      "      Epoch    GPU_mem   box_loss   cls_loss   dfl_loss  Instances       Size\n"
     ]
    },
    {
     "name": "stderr",
     "output_type": "stream",
     "text": [
      "      12/20         0G     0.8671      2.139      1.266          4        640: 100%|██████████| 7/7 [00:35<00:00,  5.02s/it]\n",
      "                 Class     Images  Instances      Box(P          R      mAP50  mAP50-95): 100%|██████████| 2/2 [00:06<00:00,  3.30s/it]"
     ]
    },
    {
     "name": "stdout",
     "output_type": "stream",
     "text": [
      "                   all         50         54      0.892      0.205      0.301      0.171\n"
     ]
    },
    {
     "name": "stderr",
     "output_type": "stream",
     "text": [
      "\n"
     ]
    },
    {
     "name": "stdout",
     "output_type": "stream",
     "text": [
      "\n",
      "      Epoch    GPU_mem   box_loss   cls_loss   dfl_loss  Instances       Size\n"
     ]
    },
    {
     "name": "stderr",
     "output_type": "stream",
     "text": [
      "      13/20         0G     0.8576      1.933       1.25          4        640: 100%|██████████| 7/7 [00:38<00:00,  5.48s/it]\n",
      "                 Class     Images  Instances      Box(P          R      mAP50  mAP50-95): 100%|██████████| 2/2 [00:07<00:00,  3.63s/it]"
     ]
    },
    {
     "name": "stdout",
     "output_type": "stream",
     "text": [
      "                   all         50         54      0.869      0.293       0.34      0.188\n"
     ]
    },
    {
     "name": "stderr",
     "output_type": "stream",
     "text": [
      "\n"
     ]
    },
    {
     "name": "stdout",
     "output_type": "stream",
     "text": [
      "\n",
      "      Epoch    GPU_mem   box_loss   cls_loss   dfl_loss  Instances       Size\n"
     ]
    },
    {
     "name": "stderr",
     "output_type": "stream",
     "text": [
      "      14/20         0G     0.8347      1.897      1.256          4        640: 100%|██████████| 7/7 [00:36<00:00,  5.21s/it]\n",
      "                 Class     Images  Instances      Box(P          R      mAP50  mAP50-95): 100%|██████████| 2/2 [00:07<00:00,  3.60s/it]"
     ]
    },
    {
     "name": "stdout",
     "output_type": "stream",
     "text": [
      "                   all         50         54      0.823      0.349       0.35        0.2\n"
     ]
    },
    {
     "name": "stderr",
     "output_type": "stream",
     "text": [
      "\n"
     ]
    },
    {
     "name": "stdout",
     "output_type": "stream",
     "text": [
      "\n",
      "      Epoch    GPU_mem   box_loss   cls_loss   dfl_loss  Instances       Size\n"
     ]
    },
    {
     "name": "stderr",
     "output_type": "stream",
     "text": [
      "      15/20         0G     0.8055       1.83      1.205          4        640: 100%|██████████| 7/7 [00:36<00:00,  5.22s/it]\n",
      "                 Class     Images  Instances      Box(P          R      mAP50  mAP50-95): 100%|██████████| 2/2 [00:06<00:00,  3.19s/it]"
     ]
    },
    {
     "name": "stdout",
     "output_type": "stream",
     "text": [
      "                   all         50         54      0.841      0.368      0.366      0.228\n"
     ]
    },
    {
     "name": "stderr",
     "output_type": "stream",
     "text": [
      "\n"
     ]
    },
    {
     "name": "stdout",
     "output_type": "stream",
     "text": [
      "\n",
      "      Epoch    GPU_mem   box_loss   cls_loss   dfl_loss  Instances       Size\n"
     ]
    },
    {
     "name": "stderr",
     "output_type": "stream",
     "text": [
      "      16/20         0G     0.8379      1.952      1.265          4        640: 100%|██████████| 7/7 [00:37<00:00,  5.33s/it]\n",
      "                 Class     Images  Instances      Box(P          R      mAP50  mAP50-95): 100%|██████████| 2/2 [00:07<00:00,  3.72s/it]"
     ]
    },
    {
     "name": "stdout",
     "output_type": "stream",
     "text": [
      "                   all         50         54      0.922      0.396      0.415      0.258\n"
     ]
    },
    {
     "name": "stderr",
     "output_type": "stream",
     "text": [
      "\n"
     ]
    },
    {
     "name": "stdout",
     "output_type": "stream",
     "text": [
      "\n",
      "      Epoch    GPU_mem   box_loss   cls_loss   dfl_loss  Instances       Size\n"
     ]
    },
    {
     "name": "stderr",
     "output_type": "stream",
     "text": [
      "      17/20         0G      0.896       1.81      1.232          4        640: 100%|██████████| 7/7 [00:36<00:00,  5.15s/it]\n",
      "                 Class     Images  Instances      Box(P          R      mAP50  mAP50-95): 100%|██████████| 2/2 [00:07<00:00,  3.91s/it]"
     ]
    },
    {
     "name": "stdout",
     "output_type": "stream",
     "text": [
      "                   all         50         54      0.942      0.361      0.414      0.262\n"
     ]
    },
    {
     "name": "stderr",
     "output_type": "stream",
     "text": [
      "\n"
     ]
    },
    {
     "name": "stdout",
     "output_type": "stream",
     "text": [
      "\n",
      "      Epoch    GPU_mem   box_loss   cls_loss   dfl_loss  Instances       Size\n"
     ]
    },
    {
     "name": "stderr",
     "output_type": "stream",
     "text": [
      "      18/20         0G     0.7798      1.685      1.144          6        640: 100%|██████████| 7/7 [00:36<00:00,  5.19s/it]\n",
      "                 Class     Images  Instances      Box(P          R      mAP50  mAP50-95): 100%|██████████| 2/2 [00:07<00:00,  3.83s/it]"
     ]
    },
    {
     "name": "stdout",
     "output_type": "stream",
     "text": [
      "                   all         50         54      0.958      0.368      0.412      0.265\n"
     ]
    },
    {
     "name": "stderr",
     "output_type": "stream",
     "text": [
      "\n"
     ]
    },
    {
     "name": "stdout",
     "output_type": "stream",
     "text": [
      "\n",
      "      Epoch    GPU_mem   box_loss   cls_loss   dfl_loss  Instances       Size\n"
     ]
    },
    {
     "name": "stderr",
     "output_type": "stream",
     "text": [
      "      19/20         0G     0.7897      1.732      1.137          6        640: 100%|██████████| 7/7 [00:36<00:00,  5.19s/it]\n",
      "                 Class     Images  Instances      Box(P          R      mAP50  mAP50-95): 100%|██████████| 2/2 [00:06<00:00,  3.44s/it]"
     ]
    },
    {
     "name": "stdout",
     "output_type": "stream",
     "text": [
      "                   all         50         54      0.909      0.425      0.441      0.292\n"
     ]
    },
    {
     "name": "stderr",
     "output_type": "stream",
     "text": [
      "\n"
     ]
    },
    {
     "name": "stdout",
     "output_type": "stream",
     "text": [
      "\n",
      "      Epoch    GPU_mem   box_loss   cls_loss   dfl_loss  Instances       Size\n"
     ]
    },
    {
     "name": "stderr",
     "output_type": "stream",
     "text": [
      "      20/20         0G     0.7713      1.715       1.21          4        640: 100%|██████████| 7/7 [00:35<00:00,  5.11s/it]\n",
      "                 Class     Images  Instances      Box(P          R      mAP50  mAP50-95): 100%|██████████| 2/2 [00:07<00:00,  3.55s/it]"
     ]
    },
    {
     "name": "stdout",
     "output_type": "stream",
     "text": [
      "                   all         50         54      0.906      0.443      0.453      0.303\n"
     ]
    },
    {
     "name": "stderr",
     "output_type": "stream",
     "text": [
      "\n"
     ]
    },
    {
     "name": "stdout",
     "output_type": "stream",
     "text": [
      "\n",
      "20 epochs completed in 0.236 hours.\n",
      "Optimizer stripped from runs/baseline/weights/last.pt, 5.3MB\n",
      "Optimizer stripped from runs/baseline/weights/best.pt, 5.3MB\n",
      "\n",
      "Validating runs/baseline/weights/best.pt...\n",
      "Ultralytics 8.3.134 🚀 Python-3.10.10 torch-2.7.0+cu128 CPU (Intel Xeon Platinum 8259CL 2.50GHz)\n",
      "YOLOv5n summary (fused): 84 layers, 2,503,919 parameters, 0 gradients, 7.1 GFLOPs\n"
     ]
    },
    {
     "name": "stderr",
     "output_type": "stream",
     "text": [
      "                 Class     Images  Instances      Box(P          R      mAP50  mAP50-95): 100%|██████████| 2/2 [00:06<00:00,  3.25s/it]\n"
     ]
    },
    {
     "name": "stdout",
     "output_type": "stream",
     "text": [
      "                   all         50         54      0.905      0.443      0.453      0.302\n",
      "                   cat          1          1          1          0     0.0153     0.0107\n",
      "                   dog         48         53      0.811      0.887       0.89      0.592\n",
      "Speed: 1.6ms preprocess, 103.1ms inference, 0.0ms loss, 11.6ms postprocess per image\n",
      "Results saved to \u001b[1mruns/baseline\u001b[0m\n"
     ]
    },
    {
     "data": {
      "text/plain": [
       "ultralytics.utils.metrics.DetMetrics object with attributes:\n",
       "\n",
       "ap_class_index: array([2, 3])\n",
       "box: ultralytics.utils.metrics.Metric object\n",
       "confusion_matrix: <ultralytics.utils.metrics.ConfusionMatrix object at 0x7f7f867449d0>\n",
       "curves: ['Precision-Recall(B)', 'F1-Confidence(B)', 'Precision-Confidence(B)', 'Recall-Confidence(B)']\n",
       "curves_results: [[array([          0,    0.001001,    0.002002,    0.003003,    0.004004,    0.005005,    0.006006,    0.007007,    0.008008,    0.009009,     0.01001,    0.011011,    0.012012,    0.013013,    0.014014,    0.015015,    0.016016,    0.017017,    0.018018,    0.019019,     0.02002,    0.021021,    0.022022,    0.023023,\n",
       "          0.024024,    0.025025,    0.026026,    0.027027,    0.028028,    0.029029,     0.03003,    0.031031,    0.032032,    0.033033,    0.034034,    0.035035,    0.036036,    0.037037,    0.038038,    0.039039,     0.04004,    0.041041,    0.042042,    0.043043,    0.044044,    0.045045,    0.046046,    0.047047,\n",
       "          0.048048,    0.049049,     0.05005,    0.051051,    0.052052,    0.053053,    0.054054,    0.055055,    0.056056,    0.057057,    0.058058,    0.059059,     0.06006,    0.061061,    0.062062,    0.063063,    0.064064,    0.065065,    0.066066,    0.067067,    0.068068,    0.069069,     0.07007,    0.071071,\n",
       "          0.072072,    0.073073,    0.074074,    0.075075,    0.076076,    0.077077,    0.078078,    0.079079,     0.08008,    0.081081,    0.082082,    0.083083,    0.084084,    0.085085,    0.086086,    0.087087,    0.088088,    0.089089,     0.09009,    0.091091,    0.092092,    0.093093,    0.094094,    0.095095,\n",
       "          0.096096,    0.097097,    0.098098,    0.099099,      0.1001,      0.1011,      0.1021,      0.1031,      0.1041,     0.10511,     0.10611,     0.10711,     0.10811,     0.10911,     0.11011,     0.11111,     0.11211,     0.11311,     0.11411,     0.11512,     0.11612,     0.11712,     0.11812,     0.11912,\n",
       "           0.12012,     0.12112,     0.12212,     0.12312,     0.12412,     0.12513,     0.12613,     0.12713,     0.12813,     0.12913,     0.13013,     0.13113,     0.13213,     0.13313,     0.13413,     0.13514,     0.13614,     0.13714,     0.13814,     0.13914,     0.14014,     0.14114,     0.14214,     0.14314,\n",
       "           0.14414,     0.14515,     0.14615,     0.14715,     0.14815,     0.14915,     0.15015,     0.15115,     0.15215,     0.15315,     0.15415,     0.15516,     0.15616,     0.15716,     0.15816,     0.15916,     0.16016,     0.16116,     0.16216,     0.16316,     0.16416,     0.16517,     0.16617,     0.16717,\n",
       "           0.16817,     0.16917,     0.17017,     0.17117,     0.17217,     0.17317,     0.17417,     0.17518,     0.17618,     0.17718,     0.17818,     0.17918,     0.18018,     0.18118,     0.18218,     0.18318,     0.18418,     0.18519,     0.18619,     0.18719,     0.18819,     0.18919,     0.19019,     0.19119,\n",
       "           0.19219,     0.19319,     0.19419,      0.1952,      0.1962,      0.1972,      0.1982,      0.1992,      0.2002,      0.2012,      0.2022,      0.2032,      0.2042,     0.20521,     0.20621,     0.20721,     0.20821,     0.20921,     0.21021,     0.21121,     0.21221,     0.21321,     0.21421,     0.21522,\n",
       "           0.21622,     0.21722,     0.21822,     0.21922,     0.22022,     0.22122,     0.22222,     0.22322,     0.22422,     0.22523,     0.22623,     0.22723,     0.22823,     0.22923,     0.23023,     0.23123,     0.23223,     0.23323,     0.23423,     0.23524,     0.23624,     0.23724,     0.23824,     0.23924,\n",
       "           0.24024,     0.24124,     0.24224,     0.24324,     0.24424,     0.24525,     0.24625,     0.24725,     0.24825,     0.24925,     0.25025,     0.25125,     0.25225,     0.25325,     0.25425,     0.25526,     0.25626,     0.25726,     0.25826,     0.25926,     0.26026,     0.26126,     0.26226,     0.26326,\n",
       "           0.26426,     0.26527,     0.26627,     0.26727,     0.26827,     0.26927,     0.27027,     0.27127,     0.27227,     0.27327,     0.27427,     0.27528,     0.27628,     0.27728,     0.27828,     0.27928,     0.28028,     0.28128,     0.28228,     0.28328,     0.28428,     0.28529,     0.28629,     0.28729,\n",
       "           0.28829,     0.28929,     0.29029,     0.29129,     0.29229,     0.29329,     0.29429,      0.2953,      0.2963,      0.2973,      0.2983,      0.2993,      0.3003,      0.3013,      0.3023,      0.3033,      0.3043,     0.30531,     0.30631,     0.30731,     0.30831,     0.30931,     0.31031,     0.31131,\n",
       "           0.31231,     0.31331,     0.31431,     0.31532,     0.31632,     0.31732,     0.31832,     0.31932,     0.32032,     0.32132,     0.32232,     0.32332,     0.32432,     0.32533,     0.32633,     0.32733,     0.32833,     0.32933,     0.33033,     0.33133,     0.33233,     0.33333,     0.33433,     0.33534,\n",
       "           0.33634,     0.33734,     0.33834,     0.33934,     0.34034,     0.34134,     0.34234,     0.34334,     0.34434,     0.34535,     0.34635,     0.34735,     0.34835,     0.34935,     0.35035,     0.35135,     0.35235,     0.35335,     0.35435,     0.35536,     0.35636,     0.35736,     0.35836,     0.35936,\n",
       "           0.36036,     0.36136,     0.36236,     0.36336,     0.36436,     0.36537,     0.36637,     0.36737,     0.36837,     0.36937,     0.37037,     0.37137,     0.37237,     0.37337,     0.37437,     0.37538,     0.37638,     0.37738,     0.37838,     0.37938,     0.38038,     0.38138,     0.38238,     0.38338,\n",
       "           0.38438,     0.38539,     0.38639,     0.38739,     0.38839,     0.38939,     0.39039,     0.39139,     0.39239,     0.39339,     0.39439,      0.3954,      0.3964,      0.3974,      0.3984,      0.3994,      0.4004,      0.4014,      0.4024,      0.4034,      0.4044,     0.40541,     0.40641,     0.40741,\n",
       "           0.40841,     0.40941,     0.41041,     0.41141,     0.41241,     0.41341,     0.41441,     0.41542,     0.41642,     0.41742,     0.41842,     0.41942,     0.42042,     0.42142,     0.42242,     0.42342,     0.42442,     0.42543,     0.42643,     0.42743,     0.42843,     0.42943,     0.43043,     0.43143,\n",
       "           0.43243,     0.43343,     0.43443,     0.43544,     0.43644,     0.43744,     0.43844,     0.43944,     0.44044,     0.44144,     0.44244,     0.44344,     0.44444,     0.44545,     0.44645,     0.44745,     0.44845,     0.44945,     0.45045,     0.45145,     0.45245,     0.45345,     0.45445,     0.45546,\n",
       "           0.45646,     0.45746,     0.45846,     0.45946,     0.46046,     0.46146,     0.46246,     0.46346,     0.46446,     0.46547,     0.46647,     0.46747,     0.46847,     0.46947,     0.47047,     0.47147,     0.47247,     0.47347,     0.47447,     0.47548,     0.47648,     0.47748,     0.47848,     0.47948,\n",
       "           0.48048,     0.48148,     0.48248,     0.48348,     0.48448,     0.48549,     0.48649,     0.48749,     0.48849,     0.48949,     0.49049,     0.49149,     0.49249,     0.49349,     0.49449,      0.4955,      0.4965,      0.4975,      0.4985,      0.4995,      0.5005,      0.5015,      0.5025,      0.5035,\n",
       "            0.5045,     0.50551,     0.50651,     0.50751,     0.50851,     0.50951,     0.51051,     0.51151,     0.51251,     0.51351,     0.51451,     0.51552,     0.51652,     0.51752,     0.51852,     0.51952,     0.52052,     0.52152,     0.52252,     0.52352,     0.52452,     0.52553,     0.52653,     0.52753,\n",
       "           0.52853,     0.52953,     0.53053,     0.53153,     0.53253,     0.53353,     0.53453,     0.53554,     0.53654,     0.53754,     0.53854,     0.53954,     0.54054,     0.54154,     0.54254,     0.54354,     0.54454,     0.54555,     0.54655,     0.54755,     0.54855,     0.54955,     0.55055,     0.55155,\n",
       "           0.55255,     0.55355,     0.55455,     0.55556,     0.55656,     0.55756,     0.55856,     0.55956,     0.56056,     0.56156,     0.56256,     0.56356,     0.56456,     0.56557,     0.56657,     0.56757,     0.56857,     0.56957,     0.57057,     0.57157,     0.57257,     0.57357,     0.57457,     0.57558,\n",
       "           0.57658,     0.57758,     0.57858,     0.57958,     0.58058,     0.58158,     0.58258,     0.58358,     0.58458,     0.58559,     0.58659,     0.58759,     0.58859,     0.58959,     0.59059,     0.59159,     0.59259,     0.59359,     0.59459,      0.5956,      0.5966,      0.5976,      0.5986,      0.5996,\n",
       "            0.6006,      0.6016,      0.6026,      0.6036,      0.6046,     0.60561,     0.60661,     0.60761,     0.60861,     0.60961,     0.61061,     0.61161,     0.61261,     0.61361,     0.61461,     0.61562,     0.61662,     0.61762,     0.61862,     0.61962,     0.62062,     0.62162,     0.62262,     0.62362,\n",
       "           0.62462,     0.62563,     0.62663,     0.62763,     0.62863,     0.62963,     0.63063,     0.63163,     0.63263,     0.63363,     0.63463,     0.63564,     0.63664,     0.63764,     0.63864,     0.63964,     0.64064,     0.64164,     0.64264,     0.64364,     0.64464,     0.64565,     0.64665,     0.64765,\n",
       "           0.64865,     0.64965,     0.65065,     0.65165,     0.65265,     0.65365,     0.65465,     0.65566,     0.65666,     0.65766,     0.65866,     0.65966,     0.66066,     0.66166,     0.66266,     0.66366,     0.66466,     0.66567,     0.66667,     0.66767,     0.66867,     0.66967,     0.67067,     0.67167,\n",
       "           0.67267,     0.67367,     0.67467,     0.67568,     0.67668,     0.67768,     0.67868,     0.67968,     0.68068,     0.68168,     0.68268,     0.68368,     0.68468,     0.68569,     0.68669,     0.68769,     0.68869,     0.68969,     0.69069,     0.69169,     0.69269,     0.69369,     0.69469,      0.6957,\n",
       "            0.6967,      0.6977,      0.6987,      0.6997,      0.7007,      0.7017,      0.7027,      0.7037,      0.7047,     0.70571,     0.70671,     0.70771,     0.70871,     0.70971,     0.71071,     0.71171,     0.71271,     0.71371,     0.71471,     0.71572,     0.71672,     0.71772,     0.71872,     0.71972,\n",
       "           0.72072,     0.72172,     0.72272,     0.72372,     0.72472,     0.72573,     0.72673,     0.72773,     0.72873,     0.72973,     0.73073,     0.73173,     0.73273,     0.73373,     0.73473,     0.73574,     0.73674,     0.73774,     0.73874,     0.73974,     0.74074,     0.74174,     0.74274,     0.74374,\n",
       "           0.74474,     0.74575,     0.74675,     0.74775,     0.74875,     0.74975,     0.75075,     0.75175,     0.75275,     0.75375,     0.75475,     0.75576,     0.75676,     0.75776,     0.75876,     0.75976,     0.76076,     0.76176,     0.76276,     0.76376,     0.76476,     0.76577,     0.76677,     0.76777,\n",
       "           0.76877,     0.76977,     0.77077,     0.77177,     0.77277,     0.77377,     0.77477,     0.77578,     0.77678,     0.77778,     0.77878,     0.77978,     0.78078,     0.78178,     0.78278,     0.78378,     0.78478,     0.78579,     0.78679,     0.78779,     0.78879,     0.78979,     0.79079,     0.79179,\n",
       "           0.79279,     0.79379,     0.79479,      0.7958,      0.7968,      0.7978,      0.7988,      0.7998,      0.8008,      0.8018,      0.8028,      0.8038,      0.8048,     0.80581,     0.80681,     0.80781,     0.80881,     0.80981,     0.81081,     0.81181,     0.81281,     0.81381,     0.81481,     0.81582,\n",
       "           0.81682,     0.81782,     0.81882,     0.81982,     0.82082,     0.82182,     0.82282,     0.82382,     0.82482,     0.82583,     0.82683,     0.82783,     0.82883,     0.82983,     0.83083,     0.83183,     0.83283,     0.83383,     0.83483,     0.83584,     0.83684,     0.83784,     0.83884,     0.83984,\n",
       "           0.84084,     0.84184,     0.84284,     0.84384,     0.84484,     0.84585,     0.84685,     0.84785,     0.84885,     0.84985,     0.85085,     0.85185,     0.85285,     0.85385,     0.85485,     0.85586,     0.85686,     0.85786,     0.85886,     0.85986,     0.86086,     0.86186,     0.86286,     0.86386,\n",
       "           0.86486,     0.86587,     0.86687,     0.86787,     0.86887,     0.86987,     0.87087,     0.87187,     0.87287,     0.87387,     0.87487,     0.87588,     0.87688,     0.87788,     0.87888,     0.87988,     0.88088,     0.88188,     0.88288,     0.88388,     0.88488,     0.88589,     0.88689,     0.88789,\n",
       "           0.88889,     0.88989,     0.89089,     0.89189,     0.89289,     0.89389,     0.89489,      0.8959,      0.8969,      0.8979,      0.8989,      0.8999,      0.9009,      0.9019,      0.9029,      0.9039,      0.9049,     0.90591,     0.90691,     0.90791,     0.90891,     0.90991,     0.91091,     0.91191,\n",
       "           0.91291,     0.91391,     0.91491,     0.91592,     0.91692,     0.91792,     0.91892,     0.91992,     0.92092,     0.92192,     0.92292,     0.92392,     0.92492,     0.92593,     0.92693,     0.92793,     0.92893,     0.92993,     0.93093,     0.93193,     0.93293,     0.93393,     0.93493,     0.93594,\n",
       "           0.93694,     0.93794,     0.93894,     0.93994,     0.94094,     0.94194,     0.94294,     0.94394,     0.94494,     0.94595,     0.94695,     0.94795,     0.94895,     0.94995,     0.95095,     0.95195,     0.95295,     0.95395,     0.95495,     0.95596,     0.95696,     0.95796,     0.95896,     0.95996,\n",
       "           0.96096,     0.96196,     0.96296,     0.96396,     0.96496,     0.96597,     0.96697,     0.96797,     0.96897,     0.96997,     0.97097,     0.97197,     0.97297,     0.97397,     0.97497,     0.97598,     0.97698,     0.97798,     0.97898,     0.97998,     0.98098,     0.98198,     0.98298,     0.98398,\n",
       "           0.98498,     0.98599,     0.98699,     0.98799,     0.98899,     0.98999,     0.99099,     0.99199,     0.99299,     0.99399,     0.99499,       0.996,       0.997,       0.998,       0.999,           1]), array([[   0.015385,    0.015385,    0.015385, ...,    0.015385,    0.015385,           0],\n",
       "       [          1,           1,           1, ...,   0.0034122,   0.0017061,           0]]), 'Recall', 'Precision'], [array([          0,    0.001001,    0.002002,    0.003003,    0.004004,    0.005005,    0.006006,    0.007007,    0.008008,    0.009009,     0.01001,    0.011011,    0.012012,    0.013013,    0.014014,    0.015015,    0.016016,    0.017017,    0.018018,    0.019019,     0.02002,    0.021021,    0.022022,    0.023023,\n",
       "          0.024024,    0.025025,    0.026026,    0.027027,    0.028028,    0.029029,     0.03003,    0.031031,    0.032032,    0.033033,    0.034034,    0.035035,    0.036036,    0.037037,    0.038038,    0.039039,     0.04004,    0.041041,    0.042042,    0.043043,    0.044044,    0.045045,    0.046046,    0.047047,\n",
       "          0.048048,    0.049049,     0.05005,    0.051051,    0.052052,    0.053053,    0.054054,    0.055055,    0.056056,    0.057057,    0.058058,    0.059059,     0.06006,    0.061061,    0.062062,    0.063063,    0.064064,    0.065065,    0.066066,    0.067067,    0.068068,    0.069069,     0.07007,    0.071071,\n",
       "          0.072072,    0.073073,    0.074074,    0.075075,    0.076076,    0.077077,    0.078078,    0.079079,     0.08008,    0.081081,    0.082082,    0.083083,    0.084084,    0.085085,    0.086086,    0.087087,    0.088088,    0.089089,     0.09009,    0.091091,    0.092092,    0.093093,    0.094094,    0.095095,\n",
       "          0.096096,    0.097097,    0.098098,    0.099099,      0.1001,      0.1011,      0.1021,      0.1031,      0.1041,     0.10511,     0.10611,     0.10711,     0.10811,     0.10911,     0.11011,     0.11111,     0.11211,     0.11311,     0.11411,     0.11512,     0.11612,     0.11712,     0.11812,     0.11912,\n",
       "           0.12012,     0.12112,     0.12212,     0.12312,     0.12412,     0.12513,     0.12613,     0.12713,     0.12813,     0.12913,     0.13013,     0.13113,     0.13213,     0.13313,     0.13413,     0.13514,     0.13614,     0.13714,     0.13814,     0.13914,     0.14014,     0.14114,     0.14214,     0.14314,\n",
       "           0.14414,     0.14515,     0.14615,     0.14715,     0.14815,     0.14915,     0.15015,     0.15115,     0.15215,     0.15315,     0.15415,     0.15516,     0.15616,     0.15716,     0.15816,     0.15916,     0.16016,     0.16116,     0.16216,     0.16316,     0.16416,     0.16517,     0.16617,     0.16717,\n",
       "           0.16817,     0.16917,     0.17017,     0.17117,     0.17217,     0.17317,     0.17417,     0.17518,     0.17618,     0.17718,     0.17818,     0.17918,     0.18018,     0.18118,     0.18218,     0.18318,     0.18418,     0.18519,     0.18619,     0.18719,     0.18819,     0.18919,     0.19019,     0.19119,\n",
       "           0.19219,     0.19319,     0.19419,      0.1952,      0.1962,      0.1972,      0.1982,      0.1992,      0.2002,      0.2012,      0.2022,      0.2032,      0.2042,     0.20521,     0.20621,     0.20721,     0.20821,     0.20921,     0.21021,     0.21121,     0.21221,     0.21321,     0.21421,     0.21522,\n",
       "           0.21622,     0.21722,     0.21822,     0.21922,     0.22022,     0.22122,     0.22222,     0.22322,     0.22422,     0.22523,     0.22623,     0.22723,     0.22823,     0.22923,     0.23023,     0.23123,     0.23223,     0.23323,     0.23423,     0.23524,     0.23624,     0.23724,     0.23824,     0.23924,\n",
       "           0.24024,     0.24124,     0.24224,     0.24324,     0.24424,     0.24525,     0.24625,     0.24725,     0.24825,     0.24925,     0.25025,     0.25125,     0.25225,     0.25325,     0.25425,     0.25526,     0.25626,     0.25726,     0.25826,     0.25926,     0.26026,     0.26126,     0.26226,     0.26326,\n",
       "           0.26426,     0.26527,     0.26627,     0.26727,     0.26827,     0.26927,     0.27027,     0.27127,     0.27227,     0.27327,     0.27427,     0.27528,     0.27628,     0.27728,     0.27828,     0.27928,     0.28028,     0.28128,     0.28228,     0.28328,     0.28428,     0.28529,     0.28629,     0.28729,\n",
       "           0.28829,     0.28929,     0.29029,     0.29129,     0.29229,     0.29329,     0.29429,      0.2953,      0.2963,      0.2973,      0.2983,      0.2993,      0.3003,      0.3013,      0.3023,      0.3033,      0.3043,     0.30531,     0.30631,     0.30731,     0.30831,     0.30931,     0.31031,     0.31131,\n",
       "           0.31231,     0.31331,     0.31431,     0.31532,     0.31632,     0.31732,     0.31832,     0.31932,     0.32032,     0.32132,     0.32232,     0.32332,     0.32432,     0.32533,     0.32633,     0.32733,     0.32833,     0.32933,     0.33033,     0.33133,     0.33233,     0.33333,     0.33433,     0.33534,\n",
       "           0.33634,     0.33734,     0.33834,     0.33934,     0.34034,     0.34134,     0.34234,     0.34334,     0.34434,     0.34535,     0.34635,     0.34735,     0.34835,     0.34935,     0.35035,     0.35135,     0.35235,     0.35335,     0.35435,     0.35536,     0.35636,     0.35736,     0.35836,     0.35936,\n",
       "           0.36036,     0.36136,     0.36236,     0.36336,     0.36436,     0.36537,     0.36637,     0.36737,     0.36837,     0.36937,     0.37037,     0.37137,     0.37237,     0.37337,     0.37437,     0.37538,     0.37638,     0.37738,     0.37838,     0.37938,     0.38038,     0.38138,     0.38238,     0.38338,\n",
       "           0.38438,     0.38539,     0.38639,     0.38739,     0.38839,     0.38939,     0.39039,     0.39139,     0.39239,     0.39339,     0.39439,      0.3954,      0.3964,      0.3974,      0.3984,      0.3994,      0.4004,      0.4014,      0.4024,      0.4034,      0.4044,     0.40541,     0.40641,     0.40741,\n",
       "           0.40841,     0.40941,     0.41041,     0.41141,     0.41241,     0.41341,     0.41441,     0.41542,     0.41642,     0.41742,     0.41842,     0.41942,     0.42042,     0.42142,     0.42242,     0.42342,     0.42442,     0.42543,     0.42643,     0.42743,     0.42843,     0.42943,     0.43043,     0.43143,\n",
       "           0.43243,     0.43343,     0.43443,     0.43544,     0.43644,     0.43744,     0.43844,     0.43944,     0.44044,     0.44144,     0.44244,     0.44344,     0.44444,     0.44545,     0.44645,     0.44745,     0.44845,     0.44945,     0.45045,     0.45145,     0.45245,     0.45345,     0.45445,     0.45546,\n",
       "           0.45646,     0.45746,     0.45846,     0.45946,     0.46046,     0.46146,     0.46246,     0.46346,     0.46446,     0.46547,     0.46647,     0.46747,     0.46847,     0.46947,     0.47047,     0.47147,     0.47247,     0.47347,     0.47447,     0.47548,     0.47648,     0.47748,     0.47848,     0.47948,\n",
       "           0.48048,     0.48148,     0.48248,     0.48348,     0.48448,     0.48549,     0.48649,     0.48749,     0.48849,     0.48949,     0.49049,     0.49149,     0.49249,     0.49349,     0.49449,      0.4955,      0.4965,      0.4975,      0.4985,      0.4995,      0.5005,      0.5015,      0.5025,      0.5035,\n",
       "            0.5045,     0.50551,     0.50651,     0.50751,     0.50851,     0.50951,     0.51051,     0.51151,     0.51251,     0.51351,     0.51451,     0.51552,     0.51652,     0.51752,     0.51852,     0.51952,     0.52052,     0.52152,     0.52252,     0.52352,     0.52452,     0.52553,     0.52653,     0.52753,\n",
       "           0.52853,     0.52953,     0.53053,     0.53153,     0.53253,     0.53353,     0.53453,     0.53554,     0.53654,     0.53754,     0.53854,     0.53954,     0.54054,     0.54154,     0.54254,     0.54354,     0.54454,     0.54555,     0.54655,     0.54755,     0.54855,     0.54955,     0.55055,     0.55155,\n",
       "           0.55255,     0.55355,     0.55455,     0.55556,     0.55656,     0.55756,     0.55856,     0.55956,     0.56056,     0.56156,     0.56256,     0.56356,     0.56456,     0.56557,     0.56657,     0.56757,     0.56857,     0.56957,     0.57057,     0.57157,     0.57257,     0.57357,     0.57457,     0.57558,\n",
       "           0.57658,     0.57758,     0.57858,     0.57958,     0.58058,     0.58158,     0.58258,     0.58358,     0.58458,     0.58559,     0.58659,     0.58759,     0.58859,     0.58959,     0.59059,     0.59159,     0.59259,     0.59359,     0.59459,      0.5956,      0.5966,      0.5976,      0.5986,      0.5996,\n",
       "            0.6006,      0.6016,      0.6026,      0.6036,      0.6046,     0.60561,     0.60661,     0.60761,     0.60861,     0.60961,     0.61061,     0.61161,     0.61261,     0.61361,     0.61461,     0.61562,     0.61662,     0.61762,     0.61862,     0.61962,     0.62062,     0.62162,     0.62262,     0.62362,\n",
       "           0.62462,     0.62563,     0.62663,     0.62763,     0.62863,     0.62963,     0.63063,     0.63163,     0.63263,     0.63363,     0.63463,     0.63564,     0.63664,     0.63764,     0.63864,     0.63964,     0.64064,     0.64164,     0.64264,     0.64364,     0.64464,     0.64565,     0.64665,     0.64765,\n",
       "           0.64865,     0.64965,     0.65065,     0.65165,     0.65265,     0.65365,     0.65465,     0.65566,     0.65666,     0.65766,     0.65866,     0.65966,     0.66066,     0.66166,     0.66266,     0.66366,     0.66466,     0.66567,     0.66667,     0.66767,     0.66867,     0.66967,     0.67067,     0.67167,\n",
       "           0.67267,     0.67367,     0.67467,     0.67568,     0.67668,     0.67768,     0.67868,     0.67968,     0.68068,     0.68168,     0.68268,     0.68368,     0.68468,     0.68569,     0.68669,     0.68769,     0.68869,     0.68969,     0.69069,     0.69169,     0.69269,     0.69369,     0.69469,      0.6957,\n",
       "            0.6967,      0.6977,      0.6987,      0.6997,      0.7007,      0.7017,      0.7027,      0.7037,      0.7047,     0.70571,     0.70671,     0.70771,     0.70871,     0.70971,     0.71071,     0.71171,     0.71271,     0.71371,     0.71471,     0.71572,     0.71672,     0.71772,     0.71872,     0.71972,\n",
       "           0.72072,     0.72172,     0.72272,     0.72372,     0.72472,     0.72573,     0.72673,     0.72773,     0.72873,     0.72973,     0.73073,     0.73173,     0.73273,     0.73373,     0.73473,     0.73574,     0.73674,     0.73774,     0.73874,     0.73974,     0.74074,     0.74174,     0.74274,     0.74374,\n",
       "           0.74474,     0.74575,     0.74675,     0.74775,     0.74875,     0.74975,     0.75075,     0.75175,     0.75275,     0.75375,     0.75475,     0.75576,     0.75676,     0.75776,     0.75876,     0.75976,     0.76076,     0.76176,     0.76276,     0.76376,     0.76476,     0.76577,     0.76677,     0.76777,\n",
       "           0.76877,     0.76977,     0.77077,     0.77177,     0.77277,     0.77377,     0.77477,     0.77578,     0.77678,     0.77778,     0.77878,     0.77978,     0.78078,     0.78178,     0.78278,     0.78378,     0.78478,     0.78579,     0.78679,     0.78779,     0.78879,     0.78979,     0.79079,     0.79179,\n",
       "           0.79279,     0.79379,     0.79479,      0.7958,      0.7968,      0.7978,      0.7988,      0.7998,      0.8008,      0.8018,      0.8028,      0.8038,      0.8048,     0.80581,     0.80681,     0.80781,     0.80881,     0.80981,     0.81081,     0.81181,     0.81281,     0.81381,     0.81481,     0.81582,\n",
       "           0.81682,     0.81782,     0.81882,     0.81982,     0.82082,     0.82182,     0.82282,     0.82382,     0.82482,     0.82583,     0.82683,     0.82783,     0.82883,     0.82983,     0.83083,     0.83183,     0.83283,     0.83383,     0.83483,     0.83584,     0.83684,     0.83784,     0.83884,     0.83984,\n",
       "           0.84084,     0.84184,     0.84284,     0.84384,     0.84484,     0.84585,     0.84685,     0.84785,     0.84885,     0.84985,     0.85085,     0.85185,     0.85285,     0.85385,     0.85485,     0.85586,     0.85686,     0.85786,     0.85886,     0.85986,     0.86086,     0.86186,     0.86286,     0.86386,\n",
       "           0.86486,     0.86587,     0.86687,     0.86787,     0.86887,     0.86987,     0.87087,     0.87187,     0.87287,     0.87387,     0.87487,     0.87588,     0.87688,     0.87788,     0.87888,     0.87988,     0.88088,     0.88188,     0.88288,     0.88388,     0.88488,     0.88589,     0.88689,     0.88789,\n",
       "           0.88889,     0.88989,     0.89089,     0.89189,     0.89289,     0.89389,     0.89489,      0.8959,      0.8969,      0.8979,      0.8989,      0.8999,      0.9009,      0.9019,      0.9029,      0.9039,      0.9049,     0.90591,     0.90691,     0.90791,     0.90891,     0.90991,     0.91091,     0.91191,\n",
       "           0.91291,     0.91391,     0.91491,     0.91592,     0.91692,     0.91792,     0.91892,     0.91992,     0.92092,     0.92192,     0.92292,     0.92392,     0.92492,     0.92593,     0.92693,     0.92793,     0.92893,     0.92993,     0.93093,     0.93193,     0.93293,     0.93393,     0.93493,     0.93594,\n",
       "           0.93694,     0.93794,     0.93894,     0.93994,     0.94094,     0.94194,     0.94294,     0.94394,     0.94494,     0.94595,     0.94695,     0.94795,     0.94895,     0.94995,     0.95095,     0.95195,     0.95295,     0.95395,     0.95495,     0.95596,     0.95696,     0.95796,     0.95896,     0.95996,\n",
       "           0.96096,     0.96196,     0.96296,     0.96396,     0.96496,     0.96597,     0.96697,     0.96797,     0.96897,     0.96997,     0.97097,     0.97197,     0.97297,     0.97397,     0.97497,     0.97598,     0.97698,     0.97798,     0.97898,     0.97998,     0.98098,     0.98198,     0.98298,     0.98398,\n",
       "           0.98498,     0.98599,     0.98699,     0.98799,     0.98899,     0.98999,     0.99099,     0.99199,     0.99299,     0.99399,     0.99499,       0.996,       0.997,       0.998,       0.999,           1]), array([[ 0.00067069,  0.00067069,  0.00067348, ...,           0,           0,           0],\n",
       "       [   0.062275,    0.062275,    0.062275, ...,           0,           0,           0]]), 'Confidence', 'F1'], [array([          0,    0.001001,    0.002002,    0.003003,    0.004004,    0.005005,    0.006006,    0.007007,    0.008008,    0.009009,     0.01001,    0.011011,    0.012012,    0.013013,    0.014014,    0.015015,    0.016016,    0.017017,    0.018018,    0.019019,     0.02002,    0.021021,    0.022022,    0.023023,\n",
       "          0.024024,    0.025025,    0.026026,    0.027027,    0.028028,    0.029029,     0.03003,    0.031031,    0.032032,    0.033033,    0.034034,    0.035035,    0.036036,    0.037037,    0.038038,    0.039039,     0.04004,    0.041041,    0.042042,    0.043043,    0.044044,    0.045045,    0.046046,    0.047047,\n",
       "          0.048048,    0.049049,     0.05005,    0.051051,    0.052052,    0.053053,    0.054054,    0.055055,    0.056056,    0.057057,    0.058058,    0.059059,     0.06006,    0.061061,    0.062062,    0.063063,    0.064064,    0.065065,    0.066066,    0.067067,    0.068068,    0.069069,     0.07007,    0.071071,\n",
       "          0.072072,    0.073073,    0.074074,    0.075075,    0.076076,    0.077077,    0.078078,    0.079079,     0.08008,    0.081081,    0.082082,    0.083083,    0.084084,    0.085085,    0.086086,    0.087087,    0.088088,    0.089089,     0.09009,    0.091091,    0.092092,    0.093093,    0.094094,    0.095095,\n",
       "          0.096096,    0.097097,    0.098098,    0.099099,      0.1001,      0.1011,      0.1021,      0.1031,      0.1041,     0.10511,     0.10611,     0.10711,     0.10811,     0.10911,     0.11011,     0.11111,     0.11211,     0.11311,     0.11411,     0.11512,     0.11612,     0.11712,     0.11812,     0.11912,\n",
       "           0.12012,     0.12112,     0.12212,     0.12312,     0.12412,     0.12513,     0.12613,     0.12713,     0.12813,     0.12913,     0.13013,     0.13113,     0.13213,     0.13313,     0.13413,     0.13514,     0.13614,     0.13714,     0.13814,     0.13914,     0.14014,     0.14114,     0.14214,     0.14314,\n",
       "           0.14414,     0.14515,     0.14615,     0.14715,     0.14815,     0.14915,     0.15015,     0.15115,     0.15215,     0.15315,     0.15415,     0.15516,     0.15616,     0.15716,     0.15816,     0.15916,     0.16016,     0.16116,     0.16216,     0.16316,     0.16416,     0.16517,     0.16617,     0.16717,\n",
       "           0.16817,     0.16917,     0.17017,     0.17117,     0.17217,     0.17317,     0.17417,     0.17518,     0.17618,     0.17718,     0.17818,     0.17918,     0.18018,     0.18118,     0.18218,     0.18318,     0.18418,     0.18519,     0.18619,     0.18719,     0.18819,     0.18919,     0.19019,     0.19119,\n",
       "           0.19219,     0.19319,     0.19419,      0.1952,      0.1962,      0.1972,      0.1982,      0.1992,      0.2002,      0.2012,      0.2022,      0.2032,      0.2042,     0.20521,     0.20621,     0.20721,     0.20821,     0.20921,     0.21021,     0.21121,     0.21221,     0.21321,     0.21421,     0.21522,\n",
       "           0.21622,     0.21722,     0.21822,     0.21922,     0.22022,     0.22122,     0.22222,     0.22322,     0.22422,     0.22523,     0.22623,     0.22723,     0.22823,     0.22923,     0.23023,     0.23123,     0.23223,     0.23323,     0.23423,     0.23524,     0.23624,     0.23724,     0.23824,     0.23924,\n",
       "           0.24024,     0.24124,     0.24224,     0.24324,     0.24424,     0.24525,     0.24625,     0.24725,     0.24825,     0.24925,     0.25025,     0.25125,     0.25225,     0.25325,     0.25425,     0.25526,     0.25626,     0.25726,     0.25826,     0.25926,     0.26026,     0.26126,     0.26226,     0.26326,\n",
       "           0.26426,     0.26527,     0.26627,     0.26727,     0.26827,     0.26927,     0.27027,     0.27127,     0.27227,     0.27327,     0.27427,     0.27528,     0.27628,     0.27728,     0.27828,     0.27928,     0.28028,     0.28128,     0.28228,     0.28328,     0.28428,     0.28529,     0.28629,     0.28729,\n",
       "           0.28829,     0.28929,     0.29029,     0.29129,     0.29229,     0.29329,     0.29429,      0.2953,      0.2963,      0.2973,      0.2983,      0.2993,      0.3003,      0.3013,      0.3023,      0.3033,      0.3043,     0.30531,     0.30631,     0.30731,     0.30831,     0.30931,     0.31031,     0.31131,\n",
       "           0.31231,     0.31331,     0.31431,     0.31532,     0.31632,     0.31732,     0.31832,     0.31932,     0.32032,     0.32132,     0.32232,     0.32332,     0.32432,     0.32533,     0.32633,     0.32733,     0.32833,     0.32933,     0.33033,     0.33133,     0.33233,     0.33333,     0.33433,     0.33534,\n",
       "           0.33634,     0.33734,     0.33834,     0.33934,     0.34034,     0.34134,     0.34234,     0.34334,     0.34434,     0.34535,     0.34635,     0.34735,     0.34835,     0.34935,     0.35035,     0.35135,     0.35235,     0.35335,     0.35435,     0.35536,     0.35636,     0.35736,     0.35836,     0.35936,\n",
       "           0.36036,     0.36136,     0.36236,     0.36336,     0.36436,     0.36537,     0.36637,     0.36737,     0.36837,     0.36937,     0.37037,     0.37137,     0.37237,     0.37337,     0.37437,     0.37538,     0.37638,     0.37738,     0.37838,     0.37938,     0.38038,     0.38138,     0.38238,     0.38338,\n",
       "           0.38438,     0.38539,     0.38639,     0.38739,     0.38839,     0.38939,     0.39039,     0.39139,     0.39239,     0.39339,     0.39439,      0.3954,      0.3964,      0.3974,      0.3984,      0.3994,      0.4004,      0.4014,      0.4024,      0.4034,      0.4044,     0.40541,     0.40641,     0.40741,\n",
       "           0.40841,     0.40941,     0.41041,     0.41141,     0.41241,     0.41341,     0.41441,     0.41542,     0.41642,     0.41742,     0.41842,     0.41942,     0.42042,     0.42142,     0.42242,     0.42342,     0.42442,     0.42543,     0.42643,     0.42743,     0.42843,     0.42943,     0.43043,     0.43143,\n",
       "           0.43243,     0.43343,     0.43443,     0.43544,     0.43644,     0.43744,     0.43844,     0.43944,     0.44044,     0.44144,     0.44244,     0.44344,     0.44444,     0.44545,     0.44645,     0.44745,     0.44845,     0.44945,     0.45045,     0.45145,     0.45245,     0.45345,     0.45445,     0.45546,\n",
       "           0.45646,     0.45746,     0.45846,     0.45946,     0.46046,     0.46146,     0.46246,     0.46346,     0.46446,     0.46547,     0.46647,     0.46747,     0.46847,     0.46947,     0.47047,     0.47147,     0.47247,     0.47347,     0.47447,     0.47548,     0.47648,     0.47748,     0.47848,     0.47948,\n",
       "           0.48048,     0.48148,     0.48248,     0.48348,     0.48448,     0.48549,     0.48649,     0.48749,     0.48849,     0.48949,     0.49049,     0.49149,     0.49249,     0.49349,     0.49449,      0.4955,      0.4965,      0.4975,      0.4985,      0.4995,      0.5005,      0.5015,      0.5025,      0.5035,\n",
       "            0.5045,     0.50551,     0.50651,     0.50751,     0.50851,     0.50951,     0.51051,     0.51151,     0.51251,     0.51351,     0.51451,     0.51552,     0.51652,     0.51752,     0.51852,     0.51952,     0.52052,     0.52152,     0.52252,     0.52352,     0.52452,     0.52553,     0.52653,     0.52753,\n",
       "           0.52853,     0.52953,     0.53053,     0.53153,     0.53253,     0.53353,     0.53453,     0.53554,     0.53654,     0.53754,     0.53854,     0.53954,     0.54054,     0.54154,     0.54254,     0.54354,     0.54454,     0.54555,     0.54655,     0.54755,     0.54855,     0.54955,     0.55055,     0.55155,\n",
       "           0.55255,     0.55355,     0.55455,     0.55556,     0.55656,     0.55756,     0.55856,     0.55956,     0.56056,     0.56156,     0.56256,     0.56356,     0.56456,     0.56557,     0.56657,     0.56757,     0.56857,     0.56957,     0.57057,     0.57157,     0.57257,     0.57357,     0.57457,     0.57558,\n",
       "           0.57658,     0.57758,     0.57858,     0.57958,     0.58058,     0.58158,     0.58258,     0.58358,     0.58458,     0.58559,     0.58659,     0.58759,     0.58859,     0.58959,     0.59059,     0.59159,     0.59259,     0.59359,     0.59459,      0.5956,      0.5966,      0.5976,      0.5986,      0.5996,\n",
       "            0.6006,      0.6016,      0.6026,      0.6036,      0.6046,     0.60561,     0.60661,     0.60761,     0.60861,     0.60961,     0.61061,     0.61161,     0.61261,     0.61361,     0.61461,     0.61562,     0.61662,     0.61762,     0.61862,     0.61962,     0.62062,     0.62162,     0.62262,     0.62362,\n",
       "           0.62462,     0.62563,     0.62663,     0.62763,     0.62863,     0.62963,     0.63063,     0.63163,     0.63263,     0.63363,     0.63463,     0.63564,     0.63664,     0.63764,     0.63864,     0.63964,     0.64064,     0.64164,     0.64264,     0.64364,     0.64464,     0.64565,     0.64665,     0.64765,\n",
       "           0.64865,     0.64965,     0.65065,     0.65165,     0.65265,     0.65365,     0.65465,     0.65566,     0.65666,     0.65766,     0.65866,     0.65966,     0.66066,     0.66166,     0.66266,     0.66366,     0.66466,     0.66567,     0.66667,     0.66767,     0.66867,     0.66967,     0.67067,     0.67167,\n",
       "           0.67267,     0.67367,     0.67467,     0.67568,     0.67668,     0.67768,     0.67868,     0.67968,     0.68068,     0.68168,     0.68268,     0.68368,     0.68468,     0.68569,     0.68669,     0.68769,     0.68869,     0.68969,     0.69069,     0.69169,     0.69269,     0.69369,     0.69469,      0.6957,\n",
       "            0.6967,      0.6977,      0.6987,      0.6997,      0.7007,      0.7017,      0.7027,      0.7037,      0.7047,     0.70571,     0.70671,     0.70771,     0.70871,     0.70971,     0.71071,     0.71171,     0.71271,     0.71371,     0.71471,     0.71572,     0.71672,     0.71772,     0.71872,     0.71972,\n",
       "           0.72072,     0.72172,     0.72272,     0.72372,     0.72472,     0.72573,     0.72673,     0.72773,     0.72873,     0.72973,     0.73073,     0.73173,     0.73273,     0.73373,     0.73473,     0.73574,     0.73674,     0.73774,     0.73874,     0.73974,     0.74074,     0.74174,     0.74274,     0.74374,\n",
       "           0.74474,     0.74575,     0.74675,     0.74775,     0.74875,     0.74975,     0.75075,     0.75175,     0.75275,     0.75375,     0.75475,     0.75576,     0.75676,     0.75776,     0.75876,     0.75976,     0.76076,     0.76176,     0.76276,     0.76376,     0.76476,     0.76577,     0.76677,     0.76777,\n",
       "           0.76877,     0.76977,     0.77077,     0.77177,     0.77277,     0.77377,     0.77477,     0.77578,     0.77678,     0.77778,     0.77878,     0.77978,     0.78078,     0.78178,     0.78278,     0.78378,     0.78478,     0.78579,     0.78679,     0.78779,     0.78879,     0.78979,     0.79079,     0.79179,\n",
       "           0.79279,     0.79379,     0.79479,      0.7958,      0.7968,      0.7978,      0.7988,      0.7998,      0.8008,      0.8018,      0.8028,      0.8038,      0.8048,     0.80581,     0.80681,     0.80781,     0.80881,     0.80981,     0.81081,     0.81181,     0.81281,     0.81381,     0.81481,     0.81582,\n",
       "           0.81682,     0.81782,     0.81882,     0.81982,     0.82082,     0.82182,     0.82282,     0.82382,     0.82482,     0.82583,     0.82683,     0.82783,     0.82883,     0.82983,     0.83083,     0.83183,     0.83283,     0.83383,     0.83483,     0.83584,     0.83684,     0.83784,     0.83884,     0.83984,\n",
       "           0.84084,     0.84184,     0.84284,     0.84384,     0.84484,     0.84585,     0.84685,     0.84785,     0.84885,     0.84985,     0.85085,     0.85185,     0.85285,     0.85385,     0.85485,     0.85586,     0.85686,     0.85786,     0.85886,     0.85986,     0.86086,     0.86186,     0.86286,     0.86386,\n",
       "           0.86486,     0.86587,     0.86687,     0.86787,     0.86887,     0.86987,     0.87087,     0.87187,     0.87287,     0.87387,     0.87487,     0.87588,     0.87688,     0.87788,     0.87888,     0.87988,     0.88088,     0.88188,     0.88288,     0.88388,     0.88488,     0.88589,     0.88689,     0.88789,\n",
       "           0.88889,     0.88989,     0.89089,     0.89189,     0.89289,     0.89389,     0.89489,      0.8959,      0.8969,      0.8979,      0.8989,      0.8999,      0.9009,      0.9019,      0.9029,      0.9039,      0.9049,     0.90591,     0.90691,     0.90791,     0.90891,     0.90991,     0.91091,     0.91191,\n",
       "           0.91291,     0.91391,     0.91491,     0.91592,     0.91692,     0.91792,     0.91892,     0.91992,     0.92092,     0.92192,     0.92292,     0.92392,     0.92492,     0.92593,     0.92693,     0.92793,     0.92893,     0.92993,     0.93093,     0.93193,     0.93293,     0.93393,     0.93493,     0.93594,\n",
       "           0.93694,     0.93794,     0.93894,     0.93994,     0.94094,     0.94194,     0.94294,     0.94394,     0.94494,     0.94595,     0.94695,     0.94795,     0.94895,     0.94995,     0.95095,     0.95195,     0.95295,     0.95395,     0.95495,     0.95596,     0.95696,     0.95796,     0.95896,     0.95996,\n",
       "           0.96096,     0.96196,     0.96296,     0.96396,     0.96496,     0.96597,     0.96697,     0.96797,     0.96897,     0.96997,     0.97097,     0.97197,     0.97297,     0.97397,     0.97497,     0.97598,     0.97698,     0.97798,     0.97898,     0.97998,     0.98098,     0.98198,     0.98298,     0.98398,\n",
       "           0.98498,     0.98599,     0.98699,     0.98799,     0.98899,     0.98999,     0.99099,     0.99199,     0.99299,     0.99399,     0.99499,       0.996,       0.997,       0.998,       0.999,           1]), array([[ 0.00033546,  0.00033546,  0.00033685, ...,           1,           1,           1],\n",
       "       [   0.032158,    0.032158,    0.032158, ...,           1,           1,           1]]), 'Confidence', 'Precision'], [array([          0,    0.001001,    0.002002,    0.003003,    0.004004,    0.005005,    0.006006,    0.007007,    0.008008,    0.009009,     0.01001,    0.011011,    0.012012,    0.013013,    0.014014,    0.015015,    0.016016,    0.017017,    0.018018,    0.019019,     0.02002,    0.021021,    0.022022,    0.023023,\n",
       "          0.024024,    0.025025,    0.026026,    0.027027,    0.028028,    0.029029,     0.03003,    0.031031,    0.032032,    0.033033,    0.034034,    0.035035,    0.036036,    0.037037,    0.038038,    0.039039,     0.04004,    0.041041,    0.042042,    0.043043,    0.044044,    0.045045,    0.046046,    0.047047,\n",
       "          0.048048,    0.049049,     0.05005,    0.051051,    0.052052,    0.053053,    0.054054,    0.055055,    0.056056,    0.057057,    0.058058,    0.059059,     0.06006,    0.061061,    0.062062,    0.063063,    0.064064,    0.065065,    0.066066,    0.067067,    0.068068,    0.069069,     0.07007,    0.071071,\n",
       "          0.072072,    0.073073,    0.074074,    0.075075,    0.076076,    0.077077,    0.078078,    0.079079,     0.08008,    0.081081,    0.082082,    0.083083,    0.084084,    0.085085,    0.086086,    0.087087,    0.088088,    0.089089,     0.09009,    0.091091,    0.092092,    0.093093,    0.094094,    0.095095,\n",
       "          0.096096,    0.097097,    0.098098,    0.099099,      0.1001,      0.1011,      0.1021,      0.1031,      0.1041,     0.10511,     0.10611,     0.10711,     0.10811,     0.10911,     0.11011,     0.11111,     0.11211,     0.11311,     0.11411,     0.11512,     0.11612,     0.11712,     0.11812,     0.11912,\n",
       "           0.12012,     0.12112,     0.12212,     0.12312,     0.12412,     0.12513,     0.12613,     0.12713,     0.12813,     0.12913,     0.13013,     0.13113,     0.13213,     0.13313,     0.13413,     0.13514,     0.13614,     0.13714,     0.13814,     0.13914,     0.14014,     0.14114,     0.14214,     0.14314,\n",
       "           0.14414,     0.14515,     0.14615,     0.14715,     0.14815,     0.14915,     0.15015,     0.15115,     0.15215,     0.15315,     0.15415,     0.15516,     0.15616,     0.15716,     0.15816,     0.15916,     0.16016,     0.16116,     0.16216,     0.16316,     0.16416,     0.16517,     0.16617,     0.16717,\n",
       "           0.16817,     0.16917,     0.17017,     0.17117,     0.17217,     0.17317,     0.17417,     0.17518,     0.17618,     0.17718,     0.17818,     0.17918,     0.18018,     0.18118,     0.18218,     0.18318,     0.18418,     0.18519,     0.18619,     0.18719,     0.18819,     0.18919,     0.19019,     0.19119,\n",
       "           0.19219,     0.19319,     0.19419,      0.1952,      0.1962,      0.1972,      0.1982,      0.1992,      0.2002,      0.2012,      0.2022,      0.2032,      0.2042,     0.20521,     0.20621,     0.20721,     0.20821,     0.20921,     0.21021,     0.21121,     0.21221,     0.21321,     0.21421,     0.21522,\n",
       "           0.21622,     0.21722,     0.21822,     0.21922,     0.22022,     0.22122,     0.22222,     0.22322,     0.22422,     0.22523,     0.22623,     0.22723,     0.22823,     0.22923,     0.23023,     0.23123,     0.23223,     0.23323,     0.23423,     0.23524,     0.23624,     0.23724,     0.23824,     0.23924,\n",
       "           0.24024,     0.24124,     0.24224,     0.24324,     0.24424,     0.24525,     0.24625,     0.24725,     0.24825,     0.24925,     0.25025,     0.25125,     0.25225,     0.25325,     0.25425,     0.25526,     0.25626,     0.25726,     0.25826,     0.25926,     0.26026,     0.26126,     0.26226,     0.26326,\n",
       "           0.26426,     0.26527,     0.26627,     0.26727,     0.26827,     0.26927,     0.27027,     0.27127,     0.27227,     0.27327,     0.27427,     0.27528,     0.27628,     0.27728,     0.27828,     0.27928,     0.28028,     0.28128,     0.28228,     0.28328,     0.28428,     0.28529,     0.28629,     0.28729,\n",
       "           0.28829,     0.28929,     0.29029,     0.29129,     0.29229,     0.29329,     0.29429,      0.2953,      0.2963,      0.2973,      0.2983,      0.2993,      0.3003,      0.3013,      0.3023,      0.3033,      0.3043,     0.30531,     0.30631,     0.30731,     0.30831,     0.30931,     0.31031,     0.31131,\n",
       "           0.31231,     0.31331,     0.31431,     0.31532,     0.31632,     0.31732,     0.31832,     0.31932,     0.32032,     0.32132,     0.32232,     0.32332,     0.32432,     0.32533,     0.32633,     0.32733,     0.32833,     0.32933,     0.33033,     0.33133,     0.33233,     0.33333,     0.33433,     0.33534,\n",
       "           0.33634,     0.33734,     0.33834,     0.33934,     0.34034,     0.34134,     0.34234,     0.34334,     0.34434,     0.34535,     0.34635,     0.34735,     0.34835,     0.34935,     0.35035,     0.35135,     0.35235,     0.35335,     0.35435,     0.35536,     0.35636,     0.35736,     0.35836,     0.35936,\n",
       "           0.36036,     0.36136,     0.36236,     0.36336,     0.36436,     0.36537,     0.36637,     0.36737,     0.36837,     0.36937,     0.37037,     0.37137,     0.37237,     0.37337,     0.37437,     0.37538,     0.37638,     0.37738,     0.37838,     0.37938,     0.38038,     0.38138,     0.38238,     0.38338,\n",
       "           0.38438,     0.38539,     0.38639,     0.38739,     0.38839,     0.38939,     0.39039,     0.39139,     0.39239,     0.39339,     0.39439,      0.3954,      0.3964,      0.3974,      0.3984,      0.3994,      0.4004,      0.4014,      0.4024,      0.4034,      0.4044,     0.40541,     0.40641,     0.40741,\n",
       "           0.40841,     0.40941,     0.41041,     0.41141,     0.41241,     0.41341,     0.41441,     0.41542,     0.41642,     0.41742,     0.41842,     0.41942,     0.42042,     0.42142,     0.42242,     0.42342,     0.42442,     0.42543,     0.42643,     0.42743,     0.42843,     0.42943,     0.43043,     0.43143,\n",
       "           0.43243,     0.43343,     0.43443,     0.43544,     0.43644,     0.43744,     0.43844,     0.43944,     0.44044,     0.44144,     0.44244,     0.44344,     0.44444,     0.44545,     0.44645,     0.44745,     0.44845,     0.44945,     0.45045,     0.45145,     0.45245,     0.45345,     0.45445,     0.45546,\n",
       "           0.45646,     0.45746,     0.45846,     0.45946,     0.46046,     0.46146,     0.46246,     0.46346,     0.46446,     0.46547,     0.46647,     0.46747,     0.46847,     0.46947,     0.47047,     0.47147,     0.47247,     0.47347,     0.47447,     0.47548,     0.47648,     0.47748,     0.47848,     0.47948,\n",
       "           0.48048,     0.48148,     0.48248,     0.48348,     0.48448,     0.48549,     0.48649,     0.48749,     0.48849,     0.48949,     0.49049,     0.49149,     0.49249,     0.49349,     0.49449,      0.4955,      0.4965,      0.4975,      0.4985,      0.4995,      0.5005,      0.5015,      0.5025,      0.5035,\n",
       "            0.5045,     0.50551,     0.50651,     0.50751,     0.50851,     0.50951,     0.51051,     0.51151,     0.51251,     0.51351,     0.51451,     0.51552,     0.51652,     0.51752,     0.51852,     0.51952,     0.52052,     0.52152,     0.52252,     0.52352,     0.52452,     0.52553,     0.52653,     0.52753,\n",
       "           0.52853,     0.52953,     0.53053,     0.53153,     0.53253,     0.53353,     0.53453,     0.53554,     0.53654,     0.53754,     0.53854,     0.53954,     0.54054,     0.54154,     0.54254,     0.54354,     0.54454,     0.54555,     0.54655,     0.54755,     0.54855,     0.54955,     0.55055,     0.55155,\n",
       "           0.55255,     0.55355,     0.55455,     0.55556,     0.55656,     0.55756,     0.55856,     0.55956,     0.56056,     0.56156,     0.56256,     0.56356,     0.56456,     0.56557,     0.56657,     0.56757,     0.56857,     0.56957,     0.57057,     0.57157,     0.57257,     0.57357,     0.57457,     0.57558,\n",
       "           0.57658,     0.57758,     0.57858,     0.57958,     0.58058,     0.58158,     0.58258,     0.58358,     0.58458,     0.58559,     0.58659,     0.58759,     0.58859,     0.58959,     0.59059,     0.59159,     0.59259,     0.59359,     0.59459,      0.5956,      0.5966,      0.5976,      0.5986,      0.5996,\n",
       "            0.6006,      0.6016,      0.6026,      0.6036,      0.6046,     0.60561,     0.60661,     0.60761,     0.60861,     0.60961,     0.61061,     0.61161,     0.61261,     0.61361,     0.61461,     0.61562,     0.61662,     0.61762,     0.61862,     0.61962,     0.62062,     0.62162,     0.62262,     0.62362,\n",
       "           0.62462,     0.62563,     0.62663,     0.62763,     0.62863,     0.62963,     0.63063,     0.63163,     0.63263,     0.63363,     0.63463,     0.63564,     0.63664,     0.63764,     0.63864,     0.63964,     0.64064,     0.64164,     0.64264,     0.64364,     0.64464,     0.64565,     0.64665,     0.64765,\n",
       "           0.64865,     0.64965,     0.65065,     0.65165,     0.65265,     0.65365,     0.65465,     0.65566,     0.65666,     0.65766,     0.65866,     0.65966,     0.66066,     0.66166,     0.66266,     0.66366,     0.66466,     0.66567,     0.66667,     0.66767,     0.66867,     0.66967,     0.67067,     0.67167,\n",
       "           0.67267,     0.67367,     0.67467,     0.67568,     0.67668,     0.67768,     0.67868,     0.67968,     0.68068,     0.68168,     0.68268,     0.68368,     0.68468,     0.68569,     0.68669,     0.68769,     0.68869,     0.68969,     0.69069,     0.69169,     0.69269,     0.69369,     0.69469,      0.6957,\n",
       "            0.6967,      0.6977,      0.6987,      0.6997,      0.7007,      0.7017,      0.7027,      0.7037,      0.7047,     0.70571,     0.70671,     0.70771,     0.70871,     0.70971,     0.71071,     0.71171,     0.71271,     0.71371,     0.71471,     0.71572,     0.71672,     0.71772,     0.71872,     0.71972,\n",
       "           0.72072,     0.72172,     0.72272,     0.72372,     0.72472,     0.72573,     0.72673,     0.72773,     0.72873,     0.72973,     0.73073,     0.73173,     0.73273,     0.73373,     0.73473,     0.73574,     0.73674,     0.73774,     0.73874,     0.73974,     0.74074,     0.74174,     0.74274,     0.74374,\n",
       "           0.74474,     0.74575,     0.74675,     0.74775,     0.74875,     0.74975,     0.75075,     0.75175,     0.75275,     0.75375,     0.75475,     0.75576,     0.75676,     0.75776,     0.75876,     0.75976,     0.76076,     0.76176,     0.76276,     0.76376,     0.76476,     0.76577,     0.76677,     0.76777,\n",
       "           0.76877,     0.76977,     0.77077,     0.77177,     0.77277,     0.77377,     0.77477,     0.77578,     0.77678,     0.77778,     0.77878,     0.77978,     0.78078,     0.78178,     0.78278,     0.78378,     0.78478,     0.78579,     0.78679,     0.78779,     0.78879,     0.78979,     0.79079,     0.79179,\n",
       "           0.79279,     0.79379,     0.79479,      0.7958,      0.7968,      0.7978,      0.7988,      0.7998,      0.8008,      0.8018,      0.8028,      0.8038,      0.8048,     0.80581,     0.80681,     0.80781,     0.80881,     0.80981,     0.81081,     0.81181,     0.81281,     0.81381,     0.81481,     0.81582,\n",
       "           0.81682,     0.81782,     0.81882,     0.81982,     0.82082,     0.82182,     0.82282,     0.82382,     0.82482,     0.82583,     0.82683,     0.82783,     0.82883,     0.82983,     0.83083,     0.83183,     0.83283,     0.83383,     0.83483,     0.83584,     0.83684,     0.83784,     0.83884,     0.83984,\n",
       "           0.84084,     0.84184,     0.84284,     0.84384,     0.84484,     0.84585,     0.84685,     0.84785,     0.84885,     0.84985,     0.85085,     0.85185,     0.85285,     0.85385,     0.85485,     0.85586,     0.85686,     0.85786,     0.85886,     0.85986,     0.86086,     0.86186,     0.86286,     0.86386,\n",
       "           0.86486,     0.86587,     0.86687,     0.86787,     0.86887,     0.86987,     0.87087,     0.87187,     0.87287,     0.87387,     0.87487,     0.87588,     0.87688,     0.87788,     0.87888,     0.87988,     0.88088,     0.88188,     0.88288,     0.88388,     0.88488,     0.88589,     0.88689,     0.88789,\n",
       "           0.88889,     0.88989,     0.89089,     0.89189,     0.89289,     0.89389,     0.89489,      0.8959,      0.8969,      0.8979,      0.8989,      0.8999,      0.9009,      0.9019,      0.9029,      0.9039,      0.9049,     0.90591,     0.90691,     0.90791,     0.90891,     0.90991,     0.91091,     0.91191,\n",
       "           0.91291,     0.91391,     0.91491,     0.91592,     0.91692,     0.91792,     0.91892,     0.91992,     0.92092,     0.92192,     0.92292,     0.92392,     0.92492,     0.92593,     0.92693,     0.92793,     0.92893,     0.92993,     0.93093,     0.93193,     0.93293,     0.93393,     0.93493,     0.93594,\n",
       "           0.93694,     0.93794,     0.93894,     0.93994,     0.94094,     0.94194,     0.94294,     0.94394,     0.94494,     0.94595,     0.94695,     0.94795,     0.94895,     0.94995,     0.95095,     0.95195,     0.95295,     0.95395,     0.95495,     0.95596,     0.95696,     0.95796,     0.95896,     0.95996,\n",
       "           0.96096,     0.96196,     0.96296,     0.96396,     0.96496,     0.96597,     0.96697,     0.96797,     0.96897,     0.96997,     0.97097,     0.97197,     0.97297,     0.97397,     0.97497,     0.97598,     0.97698,     0.97798,     0.97898,     0.97998,     0.98098,     0.98198,     0.98298,     0.98398,\n",
       "           0.98498,     0.98599,     0.98699,     0.98799,     0.98899,     0.98999,     0.99099,     0.99199,     0.99299,     0.99399,     0.99499,       0.996,       0.997,       0.998,       0.999,           1]), array([[          1,           1,           1, ...,           0,           0,           0],\n",
       "       [    0.98113,     0.98113,     0.98113, ...,           0,           0,           0]]), 'Confidence', 'Recall']]\n",
       "fitness: 0.3166508198291052\n",
       "keys: ['metrics/precision(B)', 'metrics/recall(B)', 'metrics/mAP50(B)', 'metrics/mAP50-95(B)']\n",
       "maps: array([    0.30152,     0.30152,    0.010715,     0.59233,     0.30152])\n",
       "names: {0: 'bird', 1: 'car', 2: 'cat', 3: 'dog', 4: 'persons'}\n",
       "plot: True\n",
       "results_dict: {'metrics/precision(B)': 0.9053821021269609, 'metrics/recall(B)': 0.44339622641509435, 'metrics/mAP50(B)': 0.45281800645770764, 'metrics/mAP50-95(B)': 0.30152113242592715, 'fitness': 0.3166508198291052}\n",
       "save_dir: PosixPath('runs/baseline')\n",
       "speed: {'preprocess': 1.5897108599983767, 'inference': 103.06261481999627, 'loss': 8.40600023366278e-05, 'postprocess': 11.591202740000881}\n",
       "task: 'detect'"
      ]
     },
     "execution_count": 5,
     "metadata": {},
     "output_type": "execute_result"
    }
   ],
   "source": [
    "model.train(\n",
    "    data='../data_small/dog.yaml',\n",
    "    imgsz=640,\n",
    "    epochs=20,\n",
    "    batch=16,\n",
    "    project='runs',\n",
    "    name='baseline',\n",
    "    exist_ok=True\n",
    ")"
   ]
  },
  {
   "cell_type": "code",
   "execution_count": 2,
   "metadata": {},
   "outputs": [
    {
     "data": {
      "image/png": "[encoded data removed]",
      "text/plain": [
       "<Figure size 640x480 with 1 Axes>"
      ]
     },
     "metadata": {},
     "output_type": "display_data"
    }
   ],
   "source": [
    "df = pd.read_csv('../runs/baseline/results.csv')\n",
    "\n",
    "plt.figure()\n",
    "plt.plot(df['epoch'], df['train/box_loss'], label='Train Box Loss')\n",
    "plt.plot(df['epoch'], df['train/cls_loss'], label='Train Cls Loss')\n",
    "plt.plot(df['epoch'], df['train/dfl_loss'], label='Train DFL Loss')\n",
    "plt.xlabel('Epoch'); plt.ylabel('Loss')\n",
    "plt.title('Training Losses')\n",
    "plt.legend(); plt.grid(True)\n",
    "plt.show()"
   ]
  },
  {
   "cell_type": "code",
   "execution_count": 3,
   "metadata": {},
   "outputs": [
    {
     "data": {
      "image/png": "[encoded data removed]",
      "text/plain": [
       "<Figure size 640x480 with 1 Axes>"
      ]
     },
     "metadata": {},
     "output_type": "display_data"
    }
   ],
   "source": [
    "plt.figure()\n",
    "plt.plot(df['epoch'], df['val/box_loss'], label='Val Box Loss')\n",
    "plt.plot(df['epoch'], df['val/cls_loss'], label='Val Cls Loss')\n",
    "plt.plot(df['epoch'], df['val/dfl_loss'], label='Val DFL Loss')\n",
    "plt.xlabel('Epoch'); plt.ylabel('Loss')\n",
    "plt.title('Validation Losses')\n",
    "plt.legend(); plt.grid(True)\n",
    "plt.show()"
   ]
  },
  {
   "cell_type": "code",
   "execution_count": 4,
   "metadata": {},
   "outputs": [
    {
     "data": {
      "image/png": "[encoded data removed]",
      "text/plain": [
       "<Figure size 640x480 with 1 Axes>"
      ]
     },
     "metadata": {},
     "output_type": "display_data"
    }
   ],
   "source": [
    "plt.figure()\n",
    "plt.plot(df['epoch'], df['metrics/precision(B)'], label='Precision')\n",
    "plt.plot(df['epoch'], df['metrics/recall(B)'], label='Recall')\n",
    "plt.plot(df['epoch'], df['metrics/mAP50(B)'], label='mAP@0.5')\n",
    "plt.xlabel('Epoch'); plt.ylabel('Value')\n",
    "plt.title('Detection Metrics')\n",
    "plt.legend(); plt.grid(True)\n",
    "plt.show()"
   ]
  }
 ],
 "metadata": {
  "language_info": {
   "name": "python"
  }
 },
 "nbformat": 4,
 "nbformat_minor": 2
}
